{
 "cells": [
  {
   "cell_type": "markdown",
   "metadata": {},
   "source": [
    "# Variable Selection"
   ]
  },
  {
   "cell_type": "code",
   "execution_count": 1,
   "metadata": {
    "ExecuteTime": {
     "end_time": "2019-05-28T07:06:26.279612Z",
     "start_time": "2019-05-28T07:06:24.775879Z"
    }
   },
   "outputs": [],
   "source": [
    "from sklearn.linear_model import LinearRegression\n",
    "from sklearn.ensemble import RandomForestRegressor\n",
    "from sklearn.model_selection import train_test_split, GridSearchCV, learning_curve\n",
    "from sklearn.ensemble import BaggingRegressor\n",
    "import numpy as np\n",
    "import pandas as pd\n",
    "import matplotlib.pyplot as plt\n",
    "\n",
    "%matplotlib inline"
   ]
  },
  {
   "cell_type": "code",
   "execution_count": 2,
   "metadata": {
    "ExecuteTime": {
     "end_time": "2019-05-27T21:00:54.690361Z",
     "start_time": "2019-05-27T21:00:54.684698Z"
    }
   },
   "outputs": [],
   "source": [
    "def run_model(model, X, y, num_iterations):\n",
    "    rmse_scores = []\n",
    "    r2_scores = []\n",
    "    rand_state = np.random.randint(0, num_iterations*10, num_iterations)\n",
    "    for i in rand_state:\n",
    "        X_train, X_test, y_train, y_test = train_test_split(X, y, test_size=0.25, random_state=i)\n",
    "        my_model = model.fit(X_train, y_train)\n",
    "        pred = my_model.predict(X_test)\n",
    "        r2_scores.append(my_model.score(X_test, y_test))\n",
    "        rmse_scores.append(rmse(pred, y_test))\n",
    "    scores = list(zip(rand_state, rmse_scores, r2_scores))\n",
    "    sorted_scores = sorted(scores, key=lambda x: x[1])\n",
    "    return sorted_scores, rmse_scores, r2_scores"
   ]
  },
  {
   "cell_type": "code",
   "execution_count": 3,
   "metadata": {
    "ExecuteTime": {
     "end_time": "2019-05-27T21:00:54.696020Z",
     "start_time": "2019-05-27T21:00:54.692606Z"
    }
   },
   "outputs": [],
   "source": [
    "def rmse(pred, y):\n",
    "    n = len(y)\n",
    "    RMSE = np.sqrt(sum((pred - y)**2) / n)\n",
    "    return RMSE"
   ]
  },
  {
   "cell_type": "code",
   "execution_count": 2,
   "metadata": {
    "ExecuteTime": {
     "end_time": "2019-05-28T07:06:26.671992Z",
     "start_time": "2019-05-28T07:06:26.637591Z"
    }
   },
   "outputs": [],
   "source": [
    "reduced = pd.read_csv(\"../data/reduced_noot.csv\")\n",
    "reduced = reduced.drop(columns = reduced.columns[0])"
   ]
  },
  {
   "cell_type": "code",
   "execution_count": 5,
   "metadata": {
    "ExecuteTime": {
     "end_time": "2019-05-27T21:00:54.729436Z",
     "start_time": "2019-05-27T21:00:54.724151Z"
    }
   },
   "outputs": [],
   "source": [
    "X = reduced.drop(columns=\"scores\")\n",
    "y = reduced[\"scores\"]"
   ]
  },
  {
   "cell_type": "code",
   "execution_count": 6,
   "metadata": {
    "ExecuteTime": {
     "end_time": "2019-05-27T21:00:54.738854Z",
     "start_time": "2019-05-27T21:00:54.731281Z"
    }
   },
   "outputs": [],
   "source": [
    "lr = LinearRegression()\n",
    "var_1 = X[[\"predscores\", \"tmhalfsc\", \"opphalfsc\", \"psd\", \"sack_yd_pct\", \"int_pct\", \"sack_pct\"]]\n",
    "var_2 = X[[\"predscores\", \"tmhalfsc\", \"opphalfsc\", \"psd\", \"yaca\", \"airya\"]]\n",
    "var_3 = X[[\"predscores\", \"tmhalfsc\", \"psd\", \"sack_yd_pct\", \"int_pct\", \"sack_pct\"]]\n",
    "var_4 = X[[\"predscores\", \"tmhalfsc\"]]\n",
    "var_list = [X, var_1, var_2, var_3, var_4]"
   ]
  },
  {
   "cell_type": "code",
   "execution_count": 7,
   "metadata": {
    "ExecuteTime": {
     "end_time": "2019-05-27T21:01:12.120274Z",
     "start_time": "2019-05-27T21:00:54.741320Z"
    }
   },
   "outputs": [],
   "source": [
    "scores = list()\n",
    "min_rmse = list()\n",
    "avg_rmse = list()\n",
    "max_rmse = list()\n",
    "min_r2 = list()\n",
    "avg_r2 = list()\n",
    "max_r2 = list()\n",
    "for i in range(len(var_list)):\n",
    "    scs, rmse_sc, r2_sc = run_model(lr, var_list[i], y, 1000)\n",
    "    scores.append((i, scs[0]))\n",
    "    min_rmse.append((i, round(min(rmse_sc), 3)))\n",
    "    max_rmse.append((i, round(max(rmse_sc), 3)))\n",
    "    avg_rmse.append((i, round(np.mean(rmse_sc), 3)))\n",
    "    min_r2.append((i, round(min(r2_sc), 3)))\n",
    "    max_r2.append((i, round(max(r2_sc), 3)))\n",
    "    avg_r2.append((i, round(np.mean(r2_sc), 3)))"
   ]
  },
  {
   "cell_type": "code",
   "execution_count": 8,
   "metadata": {
    "ExecuteTime": {
     "end_time": "2019-05-27T21:01:12.125882Z",
     "start_time": "2019-05-27T21:01:12.122044Z"
    }
   },
   "outputs": [],
   "source": [
    "gathered = list()\n",
    "for i in range(len(avg_rmse)):\n",
    "    gathered.append((i, avg_rmse[i][1], min_rmse[i][1], max_rmse[i][1], \n",
    "                     avg_r2[i][1], min_r2[i][1], max_r2[i][1]))\n",
    "gathered_sorted = sorted(gathered, key=lambda sc: sc[1])"
   ]
  },
  {
   "cell_type": "code",
   "execution_count": 9,
   "metadata": {
    "ExecuteTime": {
     "end_time": "2019-05-27T21:01:12.149323Z",
     "start_time": "2019-05-27T21:01:12.127804Z"
    }
   },
   "outputs": [
    {
     "data": {
      "text/html": [
       "<div>\n",
       "<style scoped>\n",
       "    .dataframe tbody tr th:only-of-type {\n",
       "        vertical-align: middle;\n",
       "    }\n",
       "\n",
       "    .dataframe tbody tr th {\n",
       "        vertical-align: top;\n",
       "    }\n",
       "\n",
       "    .dataframe thead th {\n",
       "        text-align: right;\n",
       "    }\n",
       "</style>\n",
       "<table border=\"1\" class=\"dataframe\">\n",
       "  <thead>\n",
       "    <tr style=\"text-align: right;\">\n",
       "      <th></th>\n",
       "      <th>Var</th>\n",
       "      <th>Average RMSE</th>\n",
       "      <th>Min RMSE</th>\n",
       "      <th>Max RMSE</th>\n",
       "      <th>Average R^2</th>\n",
       "      <th>Min R^2</th>\n",
       "      <th>Max R^2</th>\n",
       "    </tr>\n",
       "  </thead>\n",
       "  <tbody>\n",
       "    <tr>\n",
       "      <th>0</th>\n",
       "      <td>4</td>\n",
       "      <td>6.723</td>\n",
       "      <td>6.247</td>\n",
       "      <td>7.150</td>\n",
       "      <td>0.581</td>\n",
       "      <td>0.491</td>\n",
       "      <td>0.639</td>\n",
       "    </tr>\n",
       "    <tr>\n",
       "      <th>1</th>\n",
       "      <td>3</td>\n",
       "      <td>6.726</td>\n",
       "      <td>6.160</td>\n",
       "      <td>7.145</td>\n",
       "      <td>0.582</td>\n",
       "      <td>0.521</td>\n",
       "      <td>0.646</td>\n",
       "    </tr>\n",
       "    <tr>\n",
       "      <th>2</th>\n",
       "      <td>1</td>\n",
       "      <td>6.731</td>\n",
       "      <td>6.191</td>\n",
       "      <td>7.279</td>\n",
       "      <td>0.582</td>\n",
       "      <td>0.505</td>\n",
       "      <td>0.653</td>\n",
       "    </tr>\n",
       "    <tr>\n",
       "      <th>3</th>\n",
       "      <td>2</td>\n",
       "      <td>6.732</td>\n",
       "      <td>6.177</td>\n",
       "      <td>7.219</td>\n",
       "      <td>0.582</td>\n",
       "      <td>0.489</td>\n",
       "      <td>0.652</td>\n",
       "    </tr>\n",
       "    <tr>\n",
       "      <th>4</th>\n",
       "      <td>0</td>\n",
       "      <td>6.741</td>\n",
       "      <td>6.261</td>\n",
       "      <td>7.334</td>\n",
       "      <td>0.580</td>\n",
       "      <td>0.503</td>\n",
       "      <td>0.638</td>\n",
       "    </tr>\n",
       "  </tbody>\n",
       "</table>\n",
       "</div>"
      ],
      "text/plain": [
       "   Var  Average RMSE  Min RMSE  Max RMSE  Average R^2  Min R^2  Max R^2\n",
       "0    4         6.723     6.247     7.150        0.581    0.491    0.639\n",
       "1    3         6.726     6.160     7.145        0.582    0.521    0.646\n",
       "2    1         6.731     6.191     7.279        0.582    0.505    0.653\n",
       "3    2         6.732     6.177     7.219        0.582    0.489    0.652\n",
       "4    0         6.741     6.261     7.334        0.580    0.503    0.638"
      ]
     },
     "execution_count": 9,
     "metadata": {},
     "output_type": "execute_result"
    }
   ],
   "source": [
    "summary = pd.DataFrame(gathered_sorted, columns=[\"Var\", \"Average RMSE\", \"Min RMSE\", \"Max RMSE\",\n",
    "                                                 \"Average R^2\", \"Min R^2\", \"Max R^2\"])\n",
    "summary"
   ]
  },
  {
   "cell_type": "code",
   "execution_count": 10,
   "metadata": {
    "ExecuteTime": {
     "end_time": "2019-05-27T21:01:12.953244Z",
     "start_time": "2019-05-27T21:01:12.152561Z"
    }
   },
   "outputs": [],
   "source": [
    "var = var_list[gathered_sorted[0][0]]\n",
    "t_X_train, t_X_test, t_y_train, t_y_test = train_test_split(var, y, test_size=0.25)\n",
    "lin_reg = LinearRegression()\n",
    "bag = BaggingRegressor(lin_reg, bootstrap=True, n_estimators=60, max_samples=0.95)\n",
    "bag_scores, bag_rmse, bag_r2 = run_model(bag, var, y, 10)"
   ]
  },
  {
   "cell_type": "code",
   "execution_count": 11,
   "metadata": {
    "ExecuteTime": {
     "end_time": "2019-05-27T21:01:12.958877Z",
     "start_time": "2019-05-27T21:01:12.955217Z"
    }
   },
   "outputs": [],
   "source": [
    "bag_gathered = [(gathered_sorted[0][0], np.mean(bag_rmse), min(bag_rmse), max(bag_rmse), \n",
    "                np.mean(bag_r2), min(bag_r2), max(bag_r2))]"
   ]
  },
  {
   "cell_type": "code",
   "execution_count": 12,
   "metadata": {
    "ExecuteTime": {
     "end_time": "2019-05-27T21:01:12.976155Z",
     "start_time": "2019-05-27T21:01:12.960585Z"
    }
   },
   "outputs": [
    {
     "data": {
      "text/html": [
       "<div>\n",
       "<style scoped>\n",
       "    .dataframe tbody tr th:only-of-type {\n",
       "        vertical-align: middle;\n",
       "    }\n",
       "\n",
       "    .dataframe tbody tr th {\n",
       "        vertical-align: top;\n",
       "    }\n",
       "\n",
       "    .dataframe thead th {\n",
       "        text-align: right;\n",
       "    }\n",
       "</style>\n",
       "<table border=\"1\" class=\"dataframe\">\n",
       "  <thead>\n",
       "    <tr style=\"text-align: right;\">\n",
       "      <th></th>\n",
       "      <th>Var</th>\n",
       "      <th>Average RMSE</th>\n",
       "      <th>Min RMSE</th>\n",
       "      <th>Max RMSE</th>\n",
       "      <th>Average R^2</th>\n",
       "      <th>Min R^2</th>\n",
       "      <th>Max R^2</th>\n",
       "    </tr>\n",
       "  </thead>\n",
       "  <tbody>\n",
       "    <tr>\n",
       "      <th>0</th>\n",
       "      <td>4</td>\n",
       "      <td>6.622757</td>\n",
       "      <td>6.448337</td>\n",
       "      <td>6.823867</td>\n",
       "      <td>0.592773</td>\n",
       "      <td>0.569586</td>\n",
       "      <td>0.620337</td>\n",
       "    </tr>\n",
       "  </tbody>\n",
       "</table>\n",
       "</div>"
      ],
      "text/plain": [
       "   Var  Average RMSE  Min RMSE  Max RMSE  Average R^2   Min R^2   Max R^2\n",
       "0    4      6.622757  6.448337  6.823867     0.592773  0.569586  0.620337"
      ]
     },
     "execution_count": 12,
     "metadata": {},
     "output_type": "execute_result"
    }
   ],
   "source": [
    "bag_summary = pd.DataFrame(bag_gathered, columns=[\"Var\", \"Average RMSE\", \"Min RMSE\", \"Max RMSE\", \n",
    "                                                  \"Average R^2\", \"Min R^2\", \"Max R^2\"])\n",
    "bag_summary"
   ]
  },
  {
   "cell_type": "markdown",
   "metadata": {},
   "source": [
    "# Cross Validation Visualization"
   ]
  },
  {
   "cell_type": "code",
   "execution_count": 13,
   "metadata": {
    "ExecuteTime": {
     "end_time": "2019-05-27T21:01:21.810651Z",
     "start_time": "2019-05-27T21:01:12.977999Z"
    }
   },
   "outputs": [],
   "source": [
    "train_size, train_scores, valid_scores = learning_curve(estimator=bag, X=t_X_train, y=t_y_train, \n",
    "                                                        train_sizes=np.arange(0.75, 1.0, 0.01), cv=10, \n",
    "                                                        n_jobs=-1)"
   ]
  },
  {
   "cell_type": "code",
   "execution_count": 14,
   "metadata": {
    "ExecuteTime": {
     "end_time": "2019-05-27T21:01:21.816288Z",
     "start_time": "2019-05-27T21:01:21.813192Z"
    }
   },
   "outputs": [],
   "source": [
    "train_scores_mean = np.mean(train_scores, axis=1)\n",
    "valid_scores_mean = np.mean(valid_scores, axis=1)"
   ]
  },
  {
   "cell_type": "code",
   "execution_count": 15,
   "metadata": {
    "ExecuteTime": {
     "end_time": "2019-05-27T21:01:22.030557Z",
     "start_time": "2019-05-27T21:01:21.818390Z"
    }
   },
   "outputs": [
    {
     "data": {
      "image/png": "[encoded data removed]",
      "text/plain": [
       "<Figure size 432x288 with 1 Axes>"
      ]
     },
     "metadata": {
      "needs_background": "light"
     },
     "output_type": "display_data"
    }
   ],
   "source": [
    "plt.figure()\n",
    "plt.title(\"Cross Validation\")\n",
    "plt.xlabel(\"Training Examples\")\n",
    "plt.ylabel(\"Scores\")\n",
    "plt.grid()\n",
    "plt.plot(train_size, train_scores_mean, 'o-', color=\"r\",\n",
    "             label=\"Training score\")\n",
    "plt.plot(train_size, valid_scores_mean, 'o-', color=\"g\",\n",
    "             label=\"Cross-validation score\")\n",
    "plt.ylim(0.5, 0.6)\n",
    "plot = plt.legend(loc=\"best\")"
   ]
  },
  {
   "cell_type": "markdown",
   "metadata": {},
   "source": [
    "# Grid Search over Bagging Regressor"
   ]
  },
  {
   "cell_type": "code",
   "execution_count": 16,
   "metadata": {
    "ExecuteTime": {
     "end_time": "2019-05-27T21:01:22.037452Z",
     "start_time": "2019-05-27T21:01:22.033159Z"
    }
   },
   "outputs": [],
   "source": [
    "bag_search = {\"n_estimators\":np.arange(58, 63, 1), \"max_samples\":np.arange(0.9, 0.96, 0.01)}"
   ]
  },
  {
   "cell_type": "code",
   "execution_count": 17,
   "metadata": {
    "ExecuteTime": {
     "end_time": "2019-05-27T21:01:22.043146Z",
     "start_time": "2019-05-27T21:01:22.040009Z"
    }
   },
   "outputs": [],
   "source": [
    "bagger = BaggingRegressor(lin_reg, bootstrap=True)\n",
    "bag_gs = GridSearchCV(bagger, bag_search, cv=10, n_jobs=-1)"
   ]
  },
  {
   "cell_type": "code",
   "execution_count": 18,
   "metadata": {
    "ExecuteTime": {
     "end_time": "2019-05-27T21:01:22.054315Z",
     "start_time": "2019-05-27T21:01:22.050358Z"
    }
   },
   "outputs": [],
   "source": [
    "good_estimators = list()"
   ]
  },
  {
   "cell_type": "code",
   "execution_count": 19,
   "metadata": {
    "ExecuteTime": {
     "end_time": "2019-05-27T21:03:41.385213Z",
     "start_time": "2019-05-27T21:01:22.057630Z"
    }
   },
   "outputs": [],
   "source": [
    "for i in range(0, 20):\n",
    "    var_X_train, var_X_test, var_y_train, var_y_test = train_test_split(var, y, test_size=0.25)\n",
    "    bag_gs.fit(var_X_train, var_y_train)\n",
    "    gs_r2 = bag_gs.best_estimator_.score(var_X_test, var_y_test)\n",
    "    gs_rmse = rmse(bag_gs.best_estimator_.predict(var_X_test), var_y_test)\n",
    "    if gs_r2 > 0.56:\n",
    "        good_estimators.append(bag_gs.best_estimator_)"
   ]
  },
  {
   "cell_type": "code",
   "execution_count": 20,
   "metadata": {
    "ExecuteTime": {
     "end_time": "2019-05-27T21:03:41.394005Z",
     "start_time": "2019-05-27T21:03:41.387111Z"
    }
   },
   "outputs": [],
   "source": [
    "est = list()\n",
    "samples = list()\n",
    "for model in good_estimators:\n",
    "    samples.append(model.get_params()[\"max_samples\"])\n",
    "    est.append(model.get_params()[\"n_estimators\"])"
   ]
  },
  {
   "cell_type": "code",
   "execution_count": 21,
   "metadata": {
    "ExecuteTime": {
     "end_time": "2019-05-27T21:03:41.401757Z",
     "start_time": "2019-05-27T21:03:41.396265Z"
    }
   },
   "outputs": [],
   "source": [
    "num_est = int(np.mean(est))\n",
    "num_samples = np.mean(samples)"
   ]
  },
  {
   "cell_type": "code",
   "execution_count": 22,
   "metadata": {
    "ExecuteTime": {
     "end_time": "2019-05-27T21:03:41.407452Z",
     "start_time": "2019-05-27T21:03:41.403668Z"
    }
   },
   "outputs": [
    {
     "name": "stdout",
     "output_type": "stream",
     "text": [
      "Number of Estimators: 60\n",
      "Ratio of Samples per bag: 0.9261111111111112\n"
     ]
    }
   ],
   "source": [
    "print(f\"Number of Estimators: {num_est}\")\n",
    "print(f\"Ratio of Samples per bag: {num_samples}\")"
   ]
  },
  {
   "cell_type": "markdown",
   "metadata": {},
   "source": [
    "# Final Model"
   ]
  },
  {
   "cell_type": "markdown",
   "metadata": {},
   "source": [
    "I think var_1 or var_2 gives the most consistent results. Use num_est for n_estimators and num_samples for max_samples (approximately 60, 0.92 respectively)."
   ]
  },
  {
   "cell_type": "code",
   "execution_count": 23,
   "metadata": {
    "ExecuteTime": {
     "end_time": "2019-05-27T21:03:41.413241Z",
     "start_time": "2019-05-27T21:03:41.409235Z"
    }
   },
   "outputs": [],
   "source": [
    "var_1 = X[[\"predscores\", \"tmhalfsc\", \"opphalfsc\", \"psd\", \"sack_yd_pct\", \"int_pct\", \"sack_pct\"]]\n",
    "# var_2 = X[[\"predscores\", \"tmhalfsc\", \"opphalfsc\", \"psd\", \"yaca\", \"airya\"]]"
   ]
  },
  {
   "cell_type": "code",
   "execution_count": 24,
   "metadata": {
    "ExecuteTime": {
     "end_time": "2019-05-27T21:03:41.421138Z",
     "start_time": "2019-05-27T21:03:41.415478Z"
    }
   },
   "outputs": [],
   "source": [
    "X_train, X_test, y_train, y_test = train_test_split(var_1, y, test_size=0.25)"
   ]
  },
  {
   "cell_type": "code",
   "execution_count": 25,
   "metadata": {
    "ExecuteTime": {
     "end_time": "2019-05-27T21:03:41.473440Z",
     "start_time": "2019-05-27T21:03:41.423519Z"
    }
   },
   "outputs": [
    {
     "data": {
      "text/plain": [
       "BaggingRegressor(base_estimator=LinearRegression(copy_X=True, fit_intercept=True, n_jobs=None,\n",
       "         normalize=False),\n",
       "         bootstrap=True, bootstrap_features=False, max_features=1.0,\n",
       "         max_samples=0.92, n_estimators=60, n_jobs=-1, oob_score=False,\n",
       "         random_state=None, verbose=0, warm_start=False)"
      ]
     },
     "execution_count": 25,
     "metadata": {},
     "output_type": "execute_result"
    }
   ],
   "source": [
    "final_bag = BaggingRegressor(LinearRegression(), n_estimators=60, max_samples=0.92, \n",
    "                             bootstrap=True, n_jobs=-1)\n",
    "final_bag.fit(X_train, y_train)"
   ]
  },
  {
   "cell_type": "code",
   "execution_count": 26,
   "metadata": {
    "ExecuteTime": {
     "end_time": "2019-05-27T21:03:41.489475Z",
     "start_time": "2019-05-27T21:03:41.476343Z"
    }
   },
   "outputs": [
    {
     "data": {
      "text/plain": [
       "[('predscores', 0.5545305270516467),\n",
       " ('tmhalfsc', 0.9919910094342754),\n",
       " ('opphalfsc', 0.06429252515844122),\n",
       " ('psd', 0.005126963264862416),\n",
       " ('yaca', 0.7768394167638072),\n",
       " ('airya', -2.668932132694522)]"
      ]
     },
     "execution_count": 26,
     "metadata": {},
     "output_type": "execute_result"
    }
   ],
   "source": [
    "all_coefs = []\n",
    "for coef in range(len(final_bag.estimators_[0].coef_)):\n",
    "    all_coefs.append(list())\n",
    "for est in final_bag.estimators_:\n",
    "    for coef in range(len(est.coef_)):\n",
    "        all_coefs[coef].append(est.coef_[coef])\n",
    "avg_coefs = [np.mean(c) for c in all_coefs]\n",
    "coefs = var_2.columns\n",
    "list(zip(coefs, avg_coefs))"
   ]
  },
  {
   "cell_type": "code",
   "execution_count": 27,
   "metadata": {
    "ExecuteTime": {
     "end_time": "2019-05-27T21:03:41.531905Z",
     "start_time": "2019-05-27T21:03:41.492266Z"
    }
   },
   "outputs": [],
   "source": [
    "bag_pred = final_bag.predict(X_test)\n",
    "for s in range(len(bag_pred)):\n",
    "    bag_pred[s] = round(bag_pred[s], 2)\n",
    "bag_rmse = rmse(bag_pred, y_test)\n",
    "bag_r2 = final_bag.score(X_test, y_test)"
   ]
  },
  {
   "cell_type": "code",
   "execution_count": 28,
   "metadata": {
    "ExecuteTime": {
     "end_time": "2019-05-27T21:03:41.538578Z",
     "start_time": "2019-05-27T21:03:41.534239Z"
    }
   },
   "outputs": [
    {
     "name": "stdout",
     "output_type": "stream",
     "text": [
      "Final RMSE: 6.8773\n",
      "Final R^2: 0.5407\n"
     ]
    }
   ],
   "source": [
    "print(f\"Final RMSE: {bag_rmse:.4f}\")\n",
    "print(f\"Final R^2: {bag_r2:.4f}\")"
   ]
  },
  {
   "cell_type": "code",
   "execution_count": 29,
   "metadata": {
    "ExecuteTime": {
     "end_time": "2019-05-27T21:03:41.545626Z",
     "start_time": "2019-05-27T21:03:41.541976Z"
    }
   },
   "outputs": [],
   "source": [
    "resids = y_test - bag_pred"
   ]
  },
  {
   "cell_type": "code",
   "execution_count": 30,
   "metadata": {
    "ExecuteTime": {
     "end_time": "2019-05-27T21:03:41.706443Z",
     "start_time": "2019-05-27T21:03:41.548756Z"
    }
   },
   "outputs": [
    {
     "data": {
      "image/png": "[encoded data removed]",
      "text/plain": [
       "<Figure size 432x288 with 1 Axes>"
      ]
     },
     "metadata": {
      "needs_background": "light"
     },
     "output_type": "display_data"
    }
   ],
   "source": [
    "plt.hist(resids)\n",
    "plt.title(\"Residual Histogram\")\n",
    "plt.show()"
   ]
  },
  {
   "cell_type": "code",
   "execution_count": 31,
   "metadata": {
    "ExecuteTime": {
     "end_time": "2019-05-27T21:03:41.858893Z",
     "start_time": "2019-05-27T21:03:41.708991Z"
    }
   },
   "outputs": [
    {
     "data": {
      "image/png": "[encoded data removed]",
      "text/plain": [
       "<Figure size 432x288 with 1 Axes>"
      ]
     },
     "metadata": {
      "needs_background": "light"
     },
     "output_type": "display_data"
    }
   ],
   "source": [
    "plt.scatter(range(len(resids)), resids, color=\"grey\")\n",
    "plt.plot(range(len(resids)), np.zeros(len(resids)), color=\"red\", linewidth=3)\n",
    "plt.ylabel(\"Residuals\")\n",
    "plt.title(\"Residual Plot\")\n",
    "plt.show()"
   ]
  },
  {
   "cell_type": "code",
   "execution_count": null,
   "metadata": {},
   "outputs": [],
   "source": []
  }
 ],
 "metadata": {
  "kernelspec": {
   "display_name": "Python 3",
   "language": "python",
   "name": "python3"
  },
  "language_info": {
   "codemirror_mode": {
    "name": "ipython",
    "version": 3
   },
   "file_extension": ".py",
   "mimetype": "text/x-python",
   "name": "python",
   "nbconvert_exporter": "python",
   "pygments_lexer": "ipython3",
   "version": "3.6.6"
  }
 },
 "nbformat": 4,
 "nbformat_minor": 2
}
