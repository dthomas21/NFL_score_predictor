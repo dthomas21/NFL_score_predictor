{
 "cells": [
  {
   "cell_type": "markdown",
   "metadata": {},
   "source": [
    "# Variable Selection"
   ]
  },
  {
   "cell_type": "code",
   "execution_count": 1,
   "metadata": {},
   "outputs": [],
   "source": [
    "from sklearn.linear_model import LinearRegression\n",
    "from sklearn.ensemble import RandomForestRegressor\n",
    "from sklearn.model_selection import train_test_split, GridSearchCV, learning_curve\n",
    "from sklearn.ensemble import BaggingRegressor\n",
    "import numpy as np\n",
    "import pandas as pd\n",
    "import matplotlib.pyplot as plt\n",
    "\n",
    "%matplotlib inline"
   ]
  },
  {
   "cell_type": "code",
   "execution_count": 2,
   "metadata": {},
   "outputs": [],
   "source": [
    "def run_model(model, X, y, num_iterations):\n",
    "    rmse_scores = []\n",
    "    r2_scores = []\n",
    "    rand_state = np.random.randint(0, num_iterations*10, num_iterations)\n",
    "    for i in rand_state:\n",
    "        X_train, X_test, y_train, y_test = train_test_split(X, y, test_size=0.25, random_state=i)\n",
    "        my_model = model.fit(X_train, y_train)\n",
    "        pred = my_model.predict(X_test)\n",
    "        r2_scores.append(my_model.score(X_test, y_test))\n",
    "        rmse_scores.append(rmse(pred, y_test))\n",
    "    scores = list(zip(rand_state, rmse_scores, r2_scores))\n",
    "    sorted_scores = sorted(scores, key=lambda x: x[1])\n",
    "    return sorted_scores, rmse_scores, r2_scores"
   ]
  },
  {
   "cell_type": "code",
   "execution_count": 3,
   "metadata": {},
   "outputs": [],
   "source": [
    "def rmse(pred, y):\n",
    "    n = len(y)\n",
    "    RMSE = np.sqrt(sum((pred - y)**2) / n)\n",
    "    return RMSE"
   ]
  },
  {
   "cell_type": "code",
   "execution_count": 13,
   "metadata": {},
   "outputs": [],
   "source": [
    "reduced_ot = pd.read_csv(\"../reduced.csv\")\n",
    "reduced_ot = reduced_ot.drop(columns = \"Unnamed: 0\")"
   ]
  },
  {
   "cell_type": "code",
   "execution_count": 15,
   "metadata": {},
   "outputs": [],
   "source": [
    "no_ot = np.array(reduced_ot)\n",
    "good_games = list()\n",
    "for game in no_ot:\n",
    "    if game[13] == 0:\n",
    "        good_games.append(game)\n",
    "reduced_noot = pd.DataFrame(good_games, columns=reduced_ot.columns)\n",
    "reduced_noot = reduced_noot.drop(columns=\"ot\")"
   ]
  },
  {
   "cell_type": "code",
   "execution_count": 17,
   "metadata": {},
   "outputs": [],
   "source": [
    "X = reduced_noot.drop(columns=\"scores\")\n",
    "y = reduced_noot[\"scores\"]**2"
   ]
  },
  {
   "cell_type": "code",
   "execution_count": 19,
   "metadata": {},
   "outputs": [],
   "source": [
    "lr = LinearRegression()\n",
    "X_1 = reduced_noot.drop(columns=[\"scores\", \"int_pct\", \"sack_pct\", \"sack_yd_pct\", \"fum_pct\"])\n",
    "X_2 = reduced_noot.drop(columns=[\"scores\", \"sack_pct\", \"sack_yd_pct\", \"fum_pct\"])\n",
    "var_list = [X, X_1, X_2]"
   ]
  },
  {
   "cell_type": "code",
   "execution_count": 20,
   "metadata": {},
   "outputs": [],
   "source": [
    "scores = list()\n",
    "min_rmse = list()\n",
    "avg_rmse = list()\n",
    "max_rmse = list()\n",
    "min_r2 = list()\n",
    "avg_r2 = list()\n",
    "max_r2 = list()\n",
    "for i in range(len(var_list)):\n",
    "    scs, rmse_sc, r2_sc = run_model(lr, var_list[i], y, 1000)\n",
    "    scores.append((i, scs[0]))\n",
    "    min_rmse.append((i, round(min(rmse_sc), 3)))\n",
    "    max_rmse.append((i, round(max(rmse_sc), 3)))\n",
    "    avg_rmse.append((i, round(np.mean(rmse_sc), 3)))\n",
    "    min_r2.append((i, round(min(r2_sc), 3)))\n",
    "    max_r2.append((i, round(max(r2_sc), 3)))\n",
    "    avg_r2.append((i, round(np.mean(r2_sc), 3)))"
   ]
  },
  {
   "cell_type": "code",
   "execution_count": 21,
   "metadata": {},
   "outputs": [],
   "source": [
    "gathered = list()\n",
    "for i in range(len(avg_rmse)):\n",
    "    gathered.append((i, avg_rmse[i][1], min_rmse[i][1], max_rmse[i][1], \n",
    "                     avg_r2[i][1], min_r2[i][1], max_r2[i][1]))\n",
    "gathered_sorted = sorted(gathered, key=lambda sc: sc[1])"
   ]
  },
  {
   "cell_type": "code",
   "execution_count": 22,
   "metadata": {},
   "outputs": [
    {
     "data": {
      "text/html": [
       "<div>\n",
       "<style scoped>\n",
       "    .dataframe tbody tr th:only-of-type {\n",
       "        vertical-align: middle;\n",
       "    }\n",
       "\n",
       "    .dataframe tbody tr th {\n",
       "        vertical-align: top;\n",
       "    }\n",
       "\n",
       "    .dataframe thead th {\n",
       "        text-align: right;\n",
       "    }\n",
       "</style>\n",
       "<table border=\"1\" class=\"dataframe\">\n",
       "  <thead>\n",
       "    <tr style=\"text-align: right;\">\n",
       "      <th></th>\n",
       "      <th>Var</th>\n",
       "      <th>Average RMSE</th>\n",
       "      <th>Min RMSE</th>\n",
       "      <th>Max RMSE</th>\n",
       "      <th>Average R^2</th>\n",
       "      <th>Min R^2</th>\n",
       "      <th>Max R^2</th>\n",
       "    </tr>\n",
       "  </thead>\n",
       "  <tbody>\n",
       "    <tr>\n",
       "      <th>0</th>\n",
       "      <td>1</td>\n",
       "      <td>6.759</td>\n",
       "      <td>6.269</td>\n",
       "      <td>7.309</td>\n",
       "      <td>0.578</td>\n",
       "      <td>0.506</td>\n",
       "      <td>0.647</td>\n",
       "    </tr>\n",
       "    <tr>\n",
       "      <th>1</th>\n",
       "      <td>0</td>\n",
       "      <td>6.765</td>\n",
       "      <td>6.154</td>\n",
       "      <td>7.301</td>\n",
       "      <td>0.576</td>\n",
       "      <td>0.483</td>\n",
       "      <td>0.642</td>\n",
       "    </tr>\n",
       "    <tr>\n",
       "      <th>2</th>\n",
       "      <td>2</td>\n",
       "      <td>6.769</td>\n",
       "      <td>6.077</td>\n",
       "      <td>7.337</td>\n",
       "      <td>0.577</td>\n",
       "      <td>0.485</td>\n",
       "      <td>0.652</td>\n",
       "    </tr>\n",
       "  </tbody>\n",
       "</table>\n",
       "</div>"
      ],
      "text/plain": [
       "   Var  Average RMSE  Min RMSE  Max RMSE  Average R^2  Min R^2  Max R^2\n",
       "0    1         6.759     6.269     7.309        0.578    0.506    0.647\n",
       "1    0         6.765     6.154     7.301        0.576    0.483    0.642\n",
       "2    2         6.769     6.077     7.337        0.577    0.485    0.652"
      ]
     },
     "execution_count": 22,
     "metadata": {},
     "output_type": "execute_result"
    }
   ],
   "source": [
    "summary = pd.DataFrame(gathered_sorted, columns=[\"Var\", \"Average RMSE\", \"Min RMSE\", \"Max RMSE\",\n",
    "                                                 \"Average R^2\", \"Min R^2\", \"Max R^2\"])\n",
    "summary"
   ]
  },
  {
   "cell_type": "code",
   "execution_count": 31,
   "metadata": {},
   "outputs": [],
   "source": [
    "var = var_list[gathered_sorted[0][0]]\n",
    "lin_reg = LinearRegression()\n",
    "bag = BaggingRegressor(lin_reg, bootstrap=True, n_estimators=60, max_samples=0.95)\n",
    "bag_scores, bag_rmse, bag_r2 = run_model(bag, var, y, 10)"
   ]
  },
  {
   "cell_type": "code",
   "execution_count": 32,
   "metadata": {},
   "outputs": [],
   "source": [
    "bag_gathered = [(gathered_sorted[0][0], np.mean(bag_rmse), min(bag_rmse), max(bag_rmse), \n",
    "                np.mean(bag_r2), min(bag_r2), max(bag_r2))]"
   ]
  },
  {
   "cell_type": "code",
   "execution_count": 33,
   "metadata": {},
   "outputs": [
    {
     "data": {
      "text/html": [
       "<div>\n",
       "<style scoped>\n",
       "    .dataframe tbody tr th:only-of-type {\n",
       "        vertical-align: middle;\n",
       "    }\n",
       "\n",
       "    .dataframe tbody tr th {\n",
       "        vertical-align: top;\n",
       "    }\n",
       "\n",
       "    .dataframe thead th {\n",
       "        text-align: right;\n",
       "    }\n",
       "</style>\n",
       "<table border=\"1\" class=\"dataframe\">\n",
       "  <thead>\n",
       "    <tr style=\"text-align: right;\">\n",
       "      <th></th>\n",
       "      <th>Var</th>\n",
       "      <th>Average RMSE</th>\n",
       "      <th>Min RMSE</th>\n",
       "      <th>Max RMSE</th>\n",
       "      <th>Average R^2</th>\n",
       "      <th>Min R^2</th>\n",
       "      <th>Max R^2</th>\n",
       "    </tr>\n",
       "  </thead>\n",
       "  <tbody>\n",
       "    <tr>\n",
       "      <th>0</th>\n",
       "      <td>1</td>\n",
       "      <td>6.700494</td>\n",
       "      <td>6.387782</td>\n",
       "      <td>6.927017</td>\n",
       "      <td>0.583955</td>\n",
       "      <td>0.560516</td>\n",
       "      <td>0.61517</td>\n",
       "    </tr>\n",
       "  </tbody>\n",
       "</table>\n",
       "</div>"
      ],
      "text/plain": [
       "   Var  Average RMSE  Min RMSE  Max RMSE  Average R^2   Min R^2  Max R^2\n",
       "0    1      6.700494  6.387782  6.927017     0.583955  0.560516  0.61517"
      ]
     },
     "execution_count": 33,
     "metadata": {},
     "output_type": "execute_result"
    }
   ],
   "source": [
    "bag_summary = pd.DataFrame(bag_gathered, columns=[\"Var\", \"Average RMSE\", \"Min RMSE\", \"Max RMSE\", \n",
    "                                                  \"Average R^2\", \"Min R^2\", \"Max R^2\"])\n",
    "bag_summary"
   ]
  },
  {
   "cell_type": "markdown",
   "metadata": {},
   "source": [
    "# Cross Validation Visualization"
   ]
  },
  {
   "cell_type": "code",
   "execution_count": 26,
   "metadata": {},
   "outputs": [],
   "source": [
    "train_size, train_scores, valid_scores = learning_curve(estimator=bag, X=t_X_train, y=t_y_train, \n",
    "                                                        train_sizes=np.arange(0.75, 1.0, 0.01), cv=10, \n",
    "                                                        n_jobs=-1)"
   ]
  },
  {
   "cell_type": "code",
   "execution_count": 27,
   "metadata": {},
   "outputs": [],
   "source": [
    "train_scores_mean = np.mean(train_scores, axis=1)\n",
    "valid_scores_mean = np.mean(valid_scores, axis=1)"
   ]
  },
  {
   "cell_type": "code",
   "execution_count": 28,
   "metadata": {},
   "outputs": [
    {
     "data": {
      "image/png": "[encoded data removed]",
      "text/plain": [
       "<Figure size 432x288 with 1 Axes>"
      ]
     },
     "metadata": {
      "needs_background": "light"
     },
     "output_type": "display_data"
    }
   ],
   "source": [
    "plt.figure()\n",
    "plt.title(\"Cross Validation\")\n",
    "plt.xlabel(\"Training Examples\")\n",
    "plt.ylabel(\"Scores\")\n",
    "plt.grid()\n",
    "plt.plot(train_size, train_scores_mean, 'o-', color=\"r\",\n",
    "             label=\"Training score\")\n",
    "plt.plot(train_size, valid_scores_mean, 'o-', color=\"g\",\n",
    "             label=\"Cross-validation score\")\n",
    "plt.ylim(0.5, 0.6)\n",
    "plot = plt.legend(loc=\"best\")"
   ]
  },
  {
   "cell_type": "markdown",
   "metadata": {},
   "source": [
    "# Grid Search over Bagging Regressor"
   ]
  },
  {
   "cell_type": "code",
   "execution_count": 29,
   "metadata": {},
   "outputs": [],
   "source": [
    "bag_search = {\"n_estimators\":np.arange(58, 63, 1), \"max_samples\":np.arange(0.9, 0.96, 0.01)}"
   ]
  },
  {
   "cell_type": "code",
   "execution_count": 34,
   "metadata": {},
   "outputs": [],
   "source": [
    "X_train, X_test, y_train, y_test = train_test_split(X_1, y, test_size=0.25)"
   ]
  },
  {
   "cell_type": "code",
   "execution_count": 35,
   "metadata": {},
   "outputs": [],
   "source": [
    "bagger = BaggingRegressor(lin_reg, bootstrap=True)\n",
    "bag_gs = GridSearchCV(bagger, bag_search, cv=20, n_jobs=-1)"
   ]
  },
  {
   "cell_type": "code",
   "execution_count": 42,
   "metadata": {
    "scrolled": false
   },
   "outputs": [
    {
     "data": {
      "text/plain": [
       "GridSearchCV(cv=20, error_score='raise-deprecating',\n",
       "       estimator=BaggingRegressor(base_estimator=LinearRegression(copy_X=True, fit_intercept=True, n_jobs=None,\n",
       "         normalize=False),\n",
       "         bootstrap=True, bootstrap_features=False, max_features=1.0,\n",
       "         max_samples=1.0, n_estimators=10, n_jobs=None, oob_score=False,\n",
       "         random_state=None, verbose=0, warm_start=False),\n",
       "       fit_params=None, iid='warn', n_jobs=-1,\n",
       "       param_grid={'n_estimators': array([58, 59, 60, 61, 62]), 'max_samples': array([0.9 , 0.91, 0.92, 0.93, 0.94, 0.95])},\n",
       "       pre_dispatch='2*n_jobs', refit=True, return_train_score='warn',\n",
       "       scoring=None, verbose=0)"
      ]
     },
     "execution_count": 42,
     "metadata": {},
     "output_type": "execute_result"
    }
   ],
   "source": [
    "bag_gs.fit(X_train, y_train)"
   ]
  },
  {
   "cell_type": "code",
   "execution_count": 43,
   "metadata": {},
   "outputs": [
    {
     "data": {
      "text/plain": [
       "{'max_samples': 0.91, 'n_estimators': 59}"
      ]
     },
     "execution_count": 43,
     "metadata": {},
     "output_type": "execute_result"
    }
   ],
   "source": [
    "bag_gs.best_params_"
   ]
  },
  {
   "cell_type": "markdown",
   "metadata": {},
   "source": [
    "# Final Model"
   ]
  },
  {
   "cell_type": "markdown",
   "metadata": {},
   "source": [
    "I think var_1 or var_2 gives the most consistent results. Use above hyperparameters, approximately n_estimators = 59 and max_samples = 0.92."
   ]
  },
  {
   "cell_type": "code",
   "execution_count": 44,
   "metadata": {},
   "outputs": [],
   "source": [
    "X_train, X_test, y_train, y_test = train_test_split(X_1, y, test_size=0.25)"
   ]
  },
  {
   "cell_type": "code",
   "execution_count": 45,
   "metadata": {},
   "outputs": [
    {
     "data": {
      "text/plain": [
       "BaggingRegressor(base_estimator=LinearRegression(copy_X=True, fit_intercept=True, n_jobs=None,\n",
       "         normalize=False),\n",
       "         bootstrap=True, bootstrap_features=False, max_features=1.0,\n",
       "         max_samples=0.92, n_estimators=59, n_jobs=-1, oob_score=False,\n",
       "         random_state=None, verbose=0, warm_start=False)"
      ]
     },
     "execution_count": 45,
     "metadata": {},
     "output_type": "execute_result"
    }
   ],
   "source": [
    "final_bag = BaggingRegressor(LinearRegression(), n_estimators=59, max_samples=0.92, \n",
    "                             bootstrap=True, n_jobs=-1)\n",
    "final_bag.fit(X_train, y_train)"
   ]
  },
  {
   "cell_type": "code",
   "execution_count": 47,
   "metadata": {},
   "outputs": [
    {
     "data": {
      "text/plain": [
       "[('predscores', 0.5141420728179772),\n",
       " ('tmhalfsc', 0.9254361020025723),\n",
       " ('opphalfsc', 0.0306522656594796),\n",
       " ('patt', 0.0995549599301426),\n",
       " ('ypa', 0.13675292277676776),\n",
       " ('comppct', 0.4005551980515321),\n",
       " ('ratt', -0.005367557528968067),\n",
       " ('ypr', 0.2355110171172852)]"
      ]
     },
     "execution_count": 47,
     "metadata": {},
     "output_type": "execute_result"
    }
   ],
   "source": [
    "all_coefs = []\n",
    "for coef in range(len(final_bag.estimators_[0].coef_)):\n",
    "    all_coefs.append(list())\n",
    "for est in final_bag.estimators_:\n",
    "    for coef in range(len(est.coef_)):\n",
    "        all_coefs[coef].append(est.coef_[coef])\n",
    "avg_coefs = [np.mean(c) for c in all_coefs]\n",
    "coefs = X_1.columns\n",
    "list(zip(coefs, avg_coefs))"
   ]
  },
  {
   "cell_type": "code",
   "execution_count": 48,
   "metadata": {},
   "outputs": [],
   "source": [
    "bag_pred = final_bag.predict(X_test)\n",
    "for s in range(len(bag_pred)):\n",
    "    bag_pred[s] = round(bag_pred[s], 2)\n",
    "bag_rmse = rmse(bag_pred, y_test)\n",
    "bag_r2 = final_bag.score(X_test, y_test)"
   ]
  },
  {
   "cell_type": "code",
   "execution_count": 49,
   "metadata": {},
   "outputs": [
    {
     "name": "stdout",
     "output_type": "stream",
     "text": [
      "Final RMSE: 6.6564\n",
      "Final R^2: 0.5908\n"
     ]
    }
   ],
   "source": [
    "print(f\"Final RMSE: {bag_rmse:.4f}\")\n",
    "print(f\"Final R^2: {bag_r2:.4f}\")"
   ]
  },
  {
   "cell_type": "code",
   "execution_count": 50,
   "metadata": {},
   "outputs": [],
   "source": [
    "resids = y_test - bag_pred"
   ]
  },
  {
   "cell_type": "code",
   "execution_count": 51,
   "metadata": {},
   "outputs": [
    {
     "data": {
      "image/png": "[encoded data removed]",
      "text/plain": [
       "<Figure size 432x288 with 1 Axes>"
      ]
     },
     "metadata": {
      "needs_background": "light"
     },
     "output_type": "display_data"
    }
   ],
   "source": [
    "plt.hist(resids)\n",
    "plt.title(\"Residual Histogram\")\n",
    "plt.show()"
   ]
  },
  {
   "cell_type": "code",
   "execution_count": 52,
   "metadata": {},
   "outputs": [
    {
     "data": {
      "image/png": "[encoded data removed]",
      "text/plain": [
       "<Figure size 432x288 with 1 Axes>"
      ]
     },
     "metadata": {
      "needs_background": "light"
     },
     "output_type": "display_data"
    }
   ],
   "source": [
    "plt.scatter(range(len(resids)), resids, color=\"grey\")\n",
    "plt.plot(range(len(resids)), np.zeros(len(resids)), color=\"red\", linewidth=3)\n",
    "plt.ylabel(\"Residuals\")\n",
    "plt.title(\"Residual Plot\")\n",
    "plt.show()"
   ]
  },
  {
   "cell_type": "code",
   "execution_count": null,
   "metadata": {},
   "outputs": [],
   "source": []
  }
 ],
 "metadata": {
  "kernelspec": {
   "display_name": "Python 3",
   "language": "python",
   "name": "python3"
  },
  "language_info": {
   "codemirror_mode": {
    "name": "ipython",
    "version": 3
   },
   "file_extension": ".py",
   "mimetype": "text/x-python",
   "name": "python",
   "nbconvert_exporter": "python",
   "pygments_lexer": "ipython3",
   "version": "3.6.6"
  }
 },
 "nbformat": 4,
 "nbformat_minor": 2
}
