{
 "cells": [
  {
   "cell_type": "code",
   "execution_count": 3,
   "metadata": {},
   "outputs": [],
   "source": [
    "from sklearn.linear_model import LinearRegression\n",
    "from sklearn.model_selection import train_test_split\n",
    "from sklearn.ensemble import BaggingRegressor\n",
    "from sklearn.model_selection import GridSearchCV\n",
    "from math import sqrt\n",
    "import numpy as np\n",
    "import pandas as pd\n",
    "import matplotlib.pyplot as plt\n",
    "\n",
    "%matplotlib inline"
   ]
  },
  {
   "cell_type": "code",
   "execution_count": 4,
   "metadata": {},
   "outputs": [],
   "source": [
    "reduced = pd.read_csv(\"../reduced.csv\")\n",
    "reduced = reduced.drop(columns = reduced.columns[0])"
   ]
  },
  {
   "cell_type": "code",
   "execution_count": 2,
   "metadata": {},
   "outputs": [
    {
     "ename": "NameError",
     "evalue": "name 'plt' is not defined",
     "output_type": "error",
     "traceback": [
      "\u001b[0;31m---------------------------------------------------------------------------\u001b[0m",
      "\u001b[0;31mNameError\u001b[0m                                 Traceback (most recent call last)",
      "\u001b[0;32m<ipython-input-2-ed881e43aa44>\u001b[0m in \u001b[0;36m<module>\u001b[0;34m()\u001b[0m\n\u001b[0;32m----> 1\u001b[0;31m \u001b[0mplt\u001b[0m\u001b[0;34m.\u001b[0m\u001b[0mscatter\u001b[0m\u001b[0;34m(\u001b[0m\u001b[0mreduced\u001b[0m\u001b[0;34m.\u001b[0m\u001b[0mtmhalfsc\u001b[0m\u001b[0;34m,\u001b[0m \u001b[0mreduced\u001b[0m\u001b[0;34m.\u001b[0m\u001b[0mscores\u001b[0m\u001b[0;34m)\u001b[0m\u001b[0;34m\u001b[0m\u001b[0m\n\u001b[0m",
      "\u001b[0;31mNameError\u001b[0m: name 'plt' is not defined"
     ]
    }
   ],
   "source": [
    "plt.scatter(reduced.tmhalfsc, reduced.scores)"
   ]
  },
  {
   "cell_type": "code",
   "execution_count": 4,
   "metadata": {},
   "outputs": [],
   "source": [
    "base_X = reduced.drop(columns=\"scores\")\n",
    "base_y = reduced[\"scores\"]"
   ]
  },
  {
   "cell_type": "code",
   "execution_count": 5,
   "metadata": {},
   "outputs": [],
   "source": [
    "X_train, X_test, y_train, y_test = train_test_split(base_X, base_y, test_size=0.25)"
   ]
  },
  {
   "cell_type": "code",
   "execution_count": 6,
   "metadata": {},
   "outputs": [
    {
     "data": {
      "text/plain": [
       "LinearRegression(copy_X=True, fit_intercept=True, n_jobs=None,\n",
       "         normalize=False)"
      ]
     },
     "execution_count": 6,
     "metadata": {},
     "output_type": "execute_result"
    }
   ],
   "source": [
    "base_lm = LinearRegression()\n",
    "base_lm.fit(X_train, y_train)"
   ]
  },
  {
   "cell_type": "code",
   "execution_count": 7,
   "metadata": {},
   "outputs": [],
   "source": [
    "base_lm_r2 = base_lm.score(X_test, y_test)\n",
    "base_lm_pred = base_lm.predict(X_test)"
   ]
  },
  {
   "cell_type": "code",
   "execution_count": 8,
   "metadata": {},
   "outputs": [],
   "source": [
    "def rmse(pred, y):\n",
    "    n = len(y)\n",
    "    RMSE = sqrt(sum((pred - y)**2) / n)\n",
    "    return RMSE"
   ]
  },
  {
   "cell_type": "code",
   "execution_count": 9,
   "metadata": {},
   "outputs": [],
   "source": [
    "base_lm_RMSE = rmse(base_lm_pred, y_test)"
   ]
  },
  {
   "cell_type": "code",
   "execution_count": 10,
   "metadata": {},
   "outputs": [
    {
     "name": "stdout",
     "output_type": "stream",
     "text": [
      "Baseline Linear Regression RMSE: 0.873\n",
      "Baseline Linear Regression R^2: 0.538\n"
     ]
    }
   ],
   "source": [
    "print(f\"Baseline Linear Regression RMSE: {base_lm_RMSE:.3f}\")\n",
    "print(f\"Baseline Linear Regression R^2: {base_lm_r2:.3f}\")"
   ]
  },
  {
   "cell_type": "code",
   "execution_count": 13,
   "metadata": {},
   "outputs": [
    {
     "data": {
      "text/html": [
       "<div>\n",
       "<style scoped>\n",
       "    .dataframe tbody tr th:only-of-type {\n",
       "        vertical-align: middle;\n",
       "    }\n",
       "\n",
       "    .dataframe tbody tr th {\n",
       "        vertical-align: top;\n",
       "    }\n",
       "\n",
       "    .dataframe thead th {\n",
       "        text-align: right;\n",
       "    }\n",
       "</style>\n",
       "<table border=\"1\" class=\"dataframe\">\n",
       "  <thead>\n",
       "    <tr style=\"text-align: right;\">\n",
       "      <th></th>\n",
       "      <th>0</th>\n",
       "      <th>1</th>\n",
       "      <th>2</th>\n",
       "      <th>3</th>\n",
       "      <th>4</th>\n",
       "    </tr>\n",
       "  </thead>\n",
       "  <tbody>\n",
       "    <tr>\n",
       "      <th>scores</th>\n",
       "      <td>4.000000</td>\n",
       "      <td>6.164414</td>\n",
       "      <td>4.472136</td>\n",
       "      <td>2.645751</td>\n",
       "      <td>3.741657</td>\n",
       "    </tr>\n",
       "    <tr>\n",
       "      <th>predscores</th>\n",
       "      <td>24.750000</td>\n",
       "      <td>24.750000</td>\n",
       "      <td>17.750000</td>\n",
       "      <td>24.750000</td>\n",
       "      <td>25.500000</td>\n",
       "    </tr>\n",
       "    <tr>\n",
       "      <th>tmhalfsc</th>\n",
       "      <td>6.000000</td>\n",
       "      <td>10.000000</td>\n",
       "      <td>13.000000</td>\n",
       "      <td>0.000000</td>\n",
       "      <td>7.000000</td>\n",
       "    </tr>\n",
       "    <tr>\n",
       "      <th>opphalfsc</th>\n",
       "      <td>13.000000</td>\n",
       "      <td>7.000000</td>\n",
       "      <td>10.000000</td>\n",
       "      <td>10.000000</td>\n",
       "      <td>6.000000</td>\n",
       "    </tr>\n",
       "    <tr>\n",
       "      <th>patt</th>\n",
       "      <td>19.000000</td>\n",
       "      <td>25.000000</td>\n",
       "      <td>11.000000</td>\n",
       "      <td>15.000000</td>\n",
       "      <td>21.000000</td>\n",
       "    </tr>\n",
       "    <tr>\n",
       "      <th>ypa</th>\n",
       "      <td>6.736842</td>\n",
       "      <td>7.000000</td>\n",
       "      <td>4.272727</td>\n",
       "      <td>5.466667</td>\n",
       "      <td>8.333333</td>\n",
       "    </tr>\n",
       "    <tr>\n",
       "      <th>comppct</th>\n",
       "      <td>0.578947</td>\n",
       "      <td>0.640000</td>\n",
       "      <td>0.636364</td>\n",
       "      <td>0.666667</td>\n",
       "      <td>0.714286</td>\n",
       "    </tr>\n",
       "    <tr>\n",
       "      <th>ratt</th>\n",
       "      <td>8.000000</td>\n",
       "      <td>13.000000</td>\n",
       "      <td>15.000000</td>\n",
       "      <td>10.000000</td>\n",
       "      <td>15.000000</td>\n",
       "    </tr>\n",
       "    <tr>\n",
       "      <th>ypr</th>\n",
       "      <td>1.500000</td>\n",
       "      <td>3.384615</td>\n",
       "      <td>3.466667</td>\n",
       "      <td>2.200000</td>\n",
       "      <td>2.733333</td>\n",
       "    </tr>\n",
       "    <tr>\n",
       "      <th>int_pct</th>\n",
       "      <td>0.105263</td>\n",
       "      <td>0.000000</td>\n",
       "      <td>0.000000</td>\n",
       "      <td>0.000000</td>\n",
       "      <td>0.047619</td>\n",
       "    </tr>\n",
       "    <tr>\n",
       "      <th>sack_pct</th>\n",
       "      <td>0.095238</td>\n",
       "      <td>0.038462</td>\n",
       "      <td>0.153846</td>\n",
       "      <td>0.000000</td>\n",
       "      <td>0.045455</td>\n",
       "    </tr>\n",
       "    <tr>\n",
       "      <th>sack_yd_pct</th>\n",
       "      <td>-0.523810</td>\n",
       "      <td>-0.230769</td>\n",
       "      <td>-0.769231</td>\n",
       "      <td>0.000000</td>\n",
       "      <td>-0.318182</td>\n",
       "    </tr>\n",
       "    <tr>\n",
       "      <th>fum_pct</th>\n",
       "      <td>0.000000</td>\n",
       "      <td>0.025641</td>\n",
       "      <td>0.071429</td>\n",
       "      <td>0.040000</td>\n",
       "      <td>0.027027</td>\n",
       "    </tr>\n",
       "  </tbody>\n",
       "</table>\n",
       "</div>"
      ],
      "text/plain": [
       "                     0          1          2          3          4\n",
       "scores        4.000000   6.164414   4.472136   2.645751   3.741657\n",
       "predscores   24.750000  24.750000  17.750000  24.750000  25.500000\n",
       "tmhalfsc      6.000000  10.000000  13.000000   0.000000   7.000000\n",
       "opphalfsc    13.000000   7.000000  10.000000  10.000000   6.000000\n",
       "patt         19.000000  25.000000  11.000000  15.000000  21.000000\n",
       "ypa           6.736842   7.000000   4.272727   5.466667   8.333333\n",
       "comppct       0.578947   0.640000   0.636364   0.666667   0.714286\n",
       "ratt          8.000000  13.000000  15.000000  10.000000  15.000000\n",
       "ypr           1.500000   3.384615   3.466667   2.200000   2.733333\n",
       "int_pct       0.105263   0.000000   0.000000   0.000000   0.047619\n",
       "sack_pct      0.095238   0.038462   0.153846   0.000000   0.045455\n",
       "sack_yd_pct  -0.523810  -0.230769  -0.769231   0.000000  -0.318182\n",
       "fum_pct       0.000000   0.025641   0.071429   0.040000   0.027027"
      ]
     },
     "execution_count": 13,
     "metadata": {},
     "output_type": "execute_result"
    }
   ],
   "source": [
    "reduced.head().T"
   ]
  },
  {
   "cell_type": "code",
   "execution_count": 14,
   "metadata": {},
   "outputs": [],
   "source": [
    "\"\"\"Hand Picked Variables from R:\n",
    "predscores+tmhalfsc+sack_yd_pct+int_pct+sack_pct+ypa\"\"\"\n",
    "manual = reduced[[\"scores\", \"predscores\", \"tmhalfsc\", \"patt\", \"ypa\", \"sack_yd_pct\", \"int_pct\"]]"
   ]
  },
  {
   "cell_type": "code",
   "execution_count": 15,
   "metadata": {},
   "outputs": [],
   "source": [
    "man_X = manual.drop(columns=\"scores\")\n",
    "man_y = manual[\"scores\"]"
   ]
  },
  {
   "cell_type": "code",
   "execution_count": 16,
   "metadata": {},
   "outputs": [],
   "source": [
    "man_X_train, man_X_test, man_y_train, man_y_test = train_test_split(man_X, man_y, test_size=0.25)"
   ]
  },
  {
   "cell_type": "code",
   "execution_count": 17,
   "metadata": {},
   "outputs": [
    {
     "data": {
      "text/plain": [
       "LinearRegression(copy_X=True, fit_intercept=True, n_jobs=None, normalize=True)"
      ]
     },
     "execution_count": 17,
     "metadata": {},
     "output_type": "execute_result"
    }
   ],
   "source": [
    "man_lm = LinearRegression(normalize=True)\n",
    "man_lm.fit(man_X_train, man_y_train)"
   ]
  },
  {
   "cell_type": "code",
   "execution_count": 18,
   "metadata": {},
   "outputs": [],
   "source": [
    "man_lm_pred = man_lm.predict(man_X_test)\n",
    "man_lm_RMSE = rmse(man_lm_pred, man_y_test)\n",
    "man_lm_r2 = man_lm.score(man_X_test, man_y_test)"
   ]
  },
  {
   "cell_type": "code",
   "execution_count": 19,
   "metadata": {},
   "outputs": [
    {
     "name": "stdout",
     "output_type": "stream",
     "text": [
      "Manual Linear Regression RMSE: 0.7971\n",
      "Manual Linear Regression R^2: 0.5432\n"
     ]
    }
   ],
   "source": [
    "print(f\"Manual Linear Regression RMSE: {man_lm_RMSE:.4f}\")\n",
    "print(f\"Manual Linear Regression R^2: {man_lm_r2:.4f}\")"
   ]
  },
  {
   "cell_type": "code",
   "execution_count": 20,
   "metadata": {},
   "outputs": [],
   "source": [
    "bag_lm = LinearRegression()\n",
    "bag = BaggingRegressor(bag_lm, bootstrap=True, n_estimators=10)"
   ]
  },
  {
   "cell_type": "code",
   "execution_count": 21,
   "metadata": {},
   "outputs": [
    {
     "data": {
      "text/plain": [
       "BaggingRegressor(base_estimator=LinearRegression(copy_X=True, fit_intercept=True, n_jobs=None,\n",
       "         normalize=False),\n",
       "         bootstrap=True, bootstrap_features=False, max_features=1.0,\n",
       "         max_samples=1.0, n_estimators=10, n_jobs=None, oob_score=False,\n",
       "         random_state=None, verbose=0, warm_start=False)"
      ]
     },
     "execution_count": 21,
     "metadata": {},
     "output_type": "execute_result"
    }
   ],
   "source": [
    "bag.fit(man_X_train, man_y_train)"
   ]
  },
  {
   "cell_type": "code",
   "execution_count": 22,
   "metadata": {},
   "outputs": [],
   "source": [
    "bag_pred = bag.predict(man_X_test)\n",
    "bag_RMSE = rmse(bag_pred, man_y_test)\n",
    "bag_r2 = bag.score(man_X_test, man_y_test)"
   ]
  },
  {
   "cell_type": "code",
   "execution_count": 23,
   "metadata": {},
   "outputs": [
    {
     "data": {
      "text/plain": [
       "0.7967731422445645"
      ]
     },
     "execution_count": 23,
     "metadata": {},
     "output_type": "execute_result"
    }
   ],
   "source": [
    "bag_RMSE"
   ]
  },
  {
   "cell_type": "code",
   "execution_count": 24,
   "metadata": {},
   "outputs": [
    {
     "data": {
      "text/plain": [
       "0.5435786037172914"
      ]
     },
     "execution_count": 24,
     "metadata": {},
     "output_type": "execute_result"
    }
   ],
   "source": [
    "bag_r2"
   ]
  },
  {
   "cell_type": "markdown",
   "metadata": {},
   "source": [
    "## Cross Validation Visualization"
   ]
  },
  {
   "cell_type": "code",
   "execution_count": 25,
   "metadata": {},
   "outputs": [],
   "source": [
    "reset -fs"
   ]
  },
  {
   "cell_type": "code",
   "execution_count": 26,
   "metadata": {},
   "outputs": [],
   "source": [
    "from sklearn.linear_model import LinearRegression\n",
    "from sklearn.model_selection import train_test_split, learning_curve\n",
    "import numpy as np\n",
    "import pandas as pd\n",
    "import matplotlib.pyplot as plt\n",
    "\n",
    "%matplotlib inline"
   ]
  },
  {
   "cell_type": "code",
   "execution_count": 27,
   "metadata": {},
   "outputs": [],
   "source": [
    "reduced = pd.read_csv(\"../reduced.csv\")\n",
    "reduced = reduced.drop(columns = reduced.columns[0])"
   ]
  },
  {
   "cell_type": "code",
   "execution_count": 28,
   "metadata": {},
   "outputs": [],
   "source": [
    "X = reduced.drop(columns=\"scores\")\n",
    "y = reduced[\"scores\"]"
   ]
  },
  {
   "cell_type": "code",
   "execution_count": 29,
   "metadata": {},
   "outputs": [],
   "source": [
    "lr = LinearRegression()"
   ]
  },
  {
   "cell_type": "code",
   "execution_count": 30,
   "metadata": {},
   "outputs": [],
   "source": [
    "X_train, X_test, y_train, y_test = train_test_split(X, y , test_size=0.25)"
   ]
  },
  {
   "cell_type": "code",
   "execution_count": 31,
   "metadata": {},
   "outputs": [],
   "source": [
    "train_size, train_scores, valid_scores = learning_curve(estimator=lr, X=X_train, y=y_train, \n",
    "                                                        train_sizes=np.arange(0.75, 1.0, 0.01), cv=10)"
   ]
  },
  {
   "cell_type": "code",
   "execution_count": 32,
   "metadata": {},
   "outputs": [],
   "source": [
    "train_scores_mean = np.mean(train_scores, axis=1)\n",
    "valid_scores_mean = np.mean(valid_scores, axis=1)"
   ]
  },
  {
   "cell_type": "code",
   "execution_count": 33,
   "metadata": {},
   "outputs": [
    {
     "data": {
      "image/png": "[encoded data removed]",
      "text/plain": [
       "<Figure size 432x288 with 1 Axes>"
      ]
     },
     "metadata": {
      "needs_background": "light"
     },
     "output_type": "display_data"
    }
   ],
   "source": [
    "plt.figure()\n",
    "plt.title(\"Cross Validation\")\n",
    "plt.xlabel(\"Training Examples\")\n",
    "plt.ylabel(\"Scores\")\n",
    "plt.grid()\n",
    "plt.plot(train_size, train_scores_mean, 'o-', color=\"r\",\n",
    "             label=\"Training score\")\n",
    "plt.plot(train_size, valid_scores_mean, 'o-', color=\"g\",\n",
    "             label=\"Cross-validation score\")\n",
    "plt.ylim(0.5, 0.6)\n",
    "plot = plt.legend(loc=\"best\")"
   ]
  },
  {
   "cell_type": "markdown",
   "metadata": {},
   "source": [
    "## Transformation of tmhalfsc"
   ]
  },
  {
   "cell_type": "code",
   "execution_count": 2,
   "metadata": {},
   "outputs": [],
   "source": [
    "reset -fs"
   ]
  },
  {
   "cell_type": "code",
   "execution_count": 14,
   "metadata": {},
   "outputs": [],
   "source": [
    "from sklearn.linear_model import LinearRegression\n",
    "from sklearn.model_selection import train_test_split, learning_curve\n",
    "from sklearn.ensemble import BaggingRegressor\n",
    "import numpy as np\n",
    "import pandas as pd\n",
    "import matplotlib.pyplot as plt\n",
    "\n",
    "%matplotlib inline"
   ]
  },
  {
   "cell_type": "code",
   "execution_count": 4,
   "metadata": {},
   "outputs": [],
   "source": [
    "reduced = pd.read_csv(\"../reduced.csv\")\n",
    "reduced = reduced.drop(columns = reduced.columns[0])"
   ]
  },
  {
   "cell_type": "code",
   "execution_count": 7,
   "metadata": {},
   "outputs": [],
   "source": [
    "X = reduced.drop(columns=\"scores\")\n",
    "y = reduced[\"scores\"]"
   ]
  },
  {
   "cell_type": "code",
   "execution_count": 8,
   "metadata": {},
   "outputs": [],
   "source": [
    "def get_log(col):\n",
    "    log_col = []\n",
    "    for i in range(len(col)):\n",
    "        if col[i] != 0:\n",
    "            log_col.append(np.log(col[i]))\n",
    "        else:\n",
    "            log_col.append(col[i])\n",
    "    return log_col"
   ]
  },
  {
   "cell_type": "code",
   "execution_count": 9,
   "metadata": {},
   "outputs": [],
   "source": [
    "log_tmhalf = get_log(X.tmhalfsc)\n",
    "log_pred = get_log(X.predscores)\n",
    "log_opp = get_log(X.opphalfsc)\n",
    "log_y = get_log(y)\n",
    "sqrt_tmhalf = np.sqrt(X.tmhalfsc)\n",
    "sqrt_pred = np.sqrt(X.predscores)\n",
    "sqrt_opp = np.sqrt(X.opphalfsc)"
   ]
  },
  {
   "cell_type": "code",
   "execution_count": 10,
   "metadata": {},
   "outputs": [],
   "source": [
    "# X = X.drop(columns=[\"tmhalfsc\", \"predscores\", \"opphalfsc\"])\n",
    "X = X.drop(columns=[\"tmhalfsc\"])\n",
    "X[\"tmhalfsc\"] = sqrt_tmhalf\n",
    "# X[\"predscores\"] = sqrt_pred\n",
    "# X[\"opphalfsc\"] = sqrt_opp"
   ]
  },
  {
   "cell_type": "code",
   "execution_count": 11,
   "metadata": {},
   "outputs": [],
   "source": [
    "def rmse(pred, y):\n",
    "    n = len(y)\n",
    "    RMSE = np.sqrt(sum((pred - y)**2) / n)\n",
    "    return RMSE"
   ]
  },
  {
   "cell_type": "code",
   "execution_count": 42,
   "metadata": {},
   "outputs": [],
   "source": [
    "rmse_scores = []\n",
    "r2_scores = []\n",
    "rand_state = np.random.randint(0, 10000, 1000)\n",
    "for i in rand_state:\n",
    "    X_train, X_test, y_train, y_test = train_test_split(X, y, test_size=0.25, random_state=i)\n",
    "    lr = LinearRegression().fit(X_train, y_train)\n",
    "    pred = lr.predict(X_test)\n",
    "    r2_scores.append(lr.score(X_test, y_test))\n",
    "    rmse_scores.append(rmse(pred, y_test))"
   ]
  },
  {
   "cell_type": "code",
   "execution_count": 43,
   "metadata": {},
   "outputs": [],
   "source": [
    "scores = list(zip(rand_state, rmse_scores, r2_scores))"
   ]
  },
  {
   "cell_type": "code",
   "execution_count": 44,
   "metadata": {},
   "outputs": [
    {
     "name": "stdout",
     "output_type": "stream",
     "text": [
      "Models sorted on RMSE ascending:\n",
      "Random State: 9330\n",
      "RMSE: 0.7508\n",
      "R^2: 0.5611\n"
     ]
    }
   ],
   "source": [
    "best_state = sorted(scores, key=lambda x: x[1])[0]\n",
    "print(\"Models sorted on RMSE ascending:\")\n",
    "print(f\"Random State: {best_state[0]}\")\n",
    "print(f\"RMSE: {best_state[1]:.4f}\")\n",
    "print(f\"R^2: {best_state[2]:.4f}\")"
   ]
  },
  {
   "cell_type": "code",
   "execution_count": 45,
   "metadata": {},
   "outputs": [
    {
     "name": "stdout",
     "output_type": "stream",
     "text": [
      "Mean RMSE: 0.822257947737095\n",
      "Median RMSE: 0.8232017323906825\n",
      "Mean R^2: 0.5538074618492987\n",
      "Median R^2: 0.5555925545997866\n"
     ]
    }
   ],
   "source": [
    "print(f\"Mean RMSE: {np.mean(rmse_scores)}\")\n",
    "print(f\"Median RMSE: {np.median(rmse_scores)}\")\n",
    "print(f\"Mean R^2: {np.mean(r2_scores)}\")\n",
    "print(f\"Median R^2: {np.median(r2_scores)}\")"
   ]
  },
  {
   "cell_type": "code",
   "execution_count": 49,
   "metadata": {},
   "outputs": [],
   "source": [
    "man_X = X[[\"predscores\", \"tmhalfsc\", \"patt\", \"ypa\", \"sack_yd_pct\", \"int_pct\"]]\n",
    "man_y = y"
   ]
  },
  {
   "cell_type": "code",
   "execution_count": 50,
   "metadata": {},
   "outputs": [],
   "source": [
    "man_rmse_scores = []\n",
    "man_r2_scores = []\n",
    "for i in rand_state:\n",
    "    man_X_train, man_X_test, man_y_train, man_y_test = train_test_split(man_X, man_y, test_size=0.25, random_state=i)\n",
    "    man_lr = LinearRegression(fit_intercept=False, normalize=True).fit(man_X_train, man_y_train)\n",
    "    man_pred = man_lr.predict(man_X_test)\n",
    "    man_r2_scores.append(man_lr.score(man_X_test, man_y_test))\n",
    "    man_rmse_scores.append(rmse(man_pred, man_y_test))"
   ]
  },
  {
   "cell_type": "code",
   "execution_count": 51,
   "metadata": {},
   "outputs": [],
   "source": [
    "man_scores = list(zip(rand_state, man_rmse_scores, man_r2_scores))"
   ]
  },
  {
   "cell_type": "code",
   "execution_count": 52,
   "metadata": {},
   "outputs": [
    {
     "name": "stdout",
     "output_type": "stream",
     "text": [
      "Manual models sorted on RMSE ascending:\n",
      "Random State: 9330\n",
      "Manual RMSE: 0.7657\n",
      "Manual R^2: 0.5435\n"
     ]
    }
   ],
   "source": [
    "best_state = sorted(man_scores, key=lambda x: x[1])[0]\n",
    "print(\"Manual models sorted on RMSE ascending:\")\n",
    "print(f\"Random State: {best_state[0]}\")\n",
    "print(f\"Manual RMSE: {best_state[1]:.4f}\")\n",
    "print(f\"Manual R^2: {best_state[2]:.4f}\")"
   ]
  },
  {
   "cell_type": "code",
   "execution_count": 53,
   "metadata": {},
   "outputs": [
    {
     "name": "stdout",
     "output_type": "stream",
     "text": [
      "Manual mean RMSE: 0.8379847966763164\n",
      "Manual median RMSE: 0.8381901706743291\n",
      "Manual mean R^2: 0.5364180307573353\n",
      "Manual median R^2: 0.5378642887273427\n"
     ]
    }
   ],
   "source": [
    "print(f\"Manual mean RMSE: {np.mean(man_rmse_scores)}\")\n",
    "print(f\"Manual median RMSE: {np.median(man_rmse_scores)}\")\n",
    "print(f\"Manual mean R^2: {np.mean(man_r2_scores)}\")\n",
    "print(f\"Manual median R^2: {np.median(man_r2_scores)}\")"
   ]
  },
  {
   "cell_type": "markdown",
   "metadata": {},
   "source": [
    "## Bagging Regression Iteratively"
   ]
  },
  {
   "cell_type": "code",
   "execution_count": 12,
   "metadata": {},
   "outputs": [],
   "source": [
    "def run_model(model, X, y, num_iterations):\n",
    "    rmse_scores = []\n",
    "    r2_scores = []\n",
    "    rand_state = np.random.randint(0, num_iterations*10, num_iterations)\n",
    "    for i in rand_state:\n",
    "        X_train, X_test, y_train, y_test = train_test_split(X, y, test_size=0.25, random_state=i)\n",
    "        my_model = model.fit(X_train, y_train)\n",
    "        pred = my_model.predict(X_test)\n",
    "        r2_scores.append(my_model.score(X_test, y_test))\n",
    "        rmse_scores.append(rmse(pred, y_test))\n",
    "    scores = list(zip(rand_state, rmse_scores, r2_scores))\n",
    "    sorted_scores = sorted(scores, key=lambda x: x[1])\n",
    "    return sorted_scores, rmse_scores, r2_scores"
   ]
  },
  {
   "cell_type": "code",
   "execution_count": 15,
   "metadata": {},
   "outputs": [],
   "source": [
    "bag_lm = LinearRegression()\n",
    "bag = BaggingRegressor(bag_lm, bootstrap=True, n_estimators=10)"
   ]
  },
  {
   "cell_type": "code",
   "execution_count": 16,
   "metadata": {},
   "outputs": [],
   "source": [
    "scores, rmse_sc, r2_sc = run_model(bag, X, y, 1000)"
   ]
  },
  {
   "cell_type": "code",
   "execution_count": 17,
   "metadata": {},
   "outputs": [
    {
     "data": {
      "text/plain": [
       "(5865, 0.7573990323876896, 0.5790690943668102)"
      ]
     },
     "execution_count": 17,
     "metadata": {},
     "output_type": "execute_result"
    }
   ],
   "source": [
    "scores[0]"
   ]
  },
  {
   "cell_type": "code",
   "execution_count": 18,
   "metadata": {},
   "outputs": [
    {
     "data": {
      "text/plain": [
       "0.8201438960910614"
      ]
     },
     "execution_count": 18,
     "metadata": {},
     "output_type": "execute_result"
    }
   ],
   "source": [
    "np.mean(rmse_sc)"
   ]
  },
  {
   "cell_type": "code",
   "execution_count": 19,
   "metadata": {},
   "outputs": [
    {
     "data": {
      "text/plain": [
       "0.5313965583493646"
      ]
     },
     "execution_count": 19,
     "metadata": {},
     "output_type": "execute_result"
    }
   ],
   "source": [
    "np.mean(r2_sc)"
   ]
  },
  {
   "cell_type": "markdown",
   "metadata": {},
   "source": [
    "# Split into Home and Away Models"
   ]
  },
  {
   "cell_type": "markdown",
   "metadata": {},
   "source": [
    "## Home Model"
   ]
  },
  {
   "cell_type": "code",
   "execution_count": 20,
   "metadata": {},
   "outputs": [],
   "source": [
    "split = int(len(reduced) / 2)"
   ]
  },
  {
   "cell_type": "code",
   "execution_count": 21,
   "metadata": {},
   "outputs": [],
   "source": [
    "home_data = reduced.iloc[0:split,]"
   ]
  },
  {
   "cell_type": "code",
   "execution_count": 22,
   "metadata": {},
   "outputs": [],
   "source": [
    "home_X = home_data.drop(columns=\"scores\")\n",
    "home_y = home_data[\"scores\"]"
   ]
  },
  {
   "cell_type": "code",
   "execution_count": 23,
   "metadata": {},
   "outputs": [],
   "source": [
    "home_sqrt_tmhalf = np.sqrt(home_X.tmhalfsc)\n",
    "home_X[\"tmhalfsc\"] = home_sqrt_tmhalf"
   ]
  },
  {
   "cell_type": "code",
   "execution_count": 24,
   "metadata": {},
   "outputs": [],
   "source": [
    "home_bag_lm = LinearRegression()\n",
    "home_bag = BaggingRegressor(home_bag_lm, bootstrap=True, n_estimators=10)"
   ]
  },
  {
   "cell_type": "code",
   "execution_count": 25,
   "metadata": {},
   "outputs": [],
   "source": [
    "home_scores, home_rmse_sc, home_r2_sc = run_model(home_bag, home_X, home_y, 1000)"
   ]
  },
  {
   "cell_type": "code",
   "execution_count": 26,
   "metadata": {},
   "outputs": [
    {
     "name": "stdout",
     "output_type": "stream",
     "text": [
      "Models sorted on RMSE ascending:\n",
      "Random State: 262\n",
      "RMSE: 0.6992\n",
      "R^2: 0.6076\n"
     ]
    }
   ],
   "source": [
    "home_best_state = home_scores[0]\n",
    "print(\"Models sorted on RMSE ascending:\")\n",
    "print(f\"Random State: {home_best_state[0]}\")\n",
    "print(f\"RMSE: {home_best_state[1]:.4f}\")\n",
    "print(f\"R^2: {home_best_state[2]:.4f}\")"
   ]
  },
  {
   "cell_type": "code",
   "execution_count": 27,
   "metadata": {},
   "outputs": [
    {
     "name": "stdout",
     "output_type": "stream",
     "text": [
      "Mean RMSE: 0.800062692605205\n",
      "Median RMSE: 0.8003\n",
      "Mean R^2: 0.5464\n",
      "Median R^2: 0.5494\n"
     ]
    }
   ],
   "source": [
    "print(f\"Mean RMSE: {np.mean(home_rmse_sc)}\")\n",
    "print(f\"Median RMSE: {np.median(home_rmse_sc):.4f}\")\n",
    "print(f\"Mean R^2: {np.mean(home_r2_sc):.4f}\")\n",
    "print(f\"Median R^2: {np.median(home_r2_sc):.4f}\")"
   ]
  },
  {
   "cell_type": "markdown",
   "metadata": {},
   "source": [
    "## Away Model"
   ]
  },
  {
   "cell_type": "code",
   "execution_count": 28,
   "metadata": {},
   "outputs": [],
   "source": [
    "away_data = reduced.iloc[split:len(reduced),]"
   ]
  },
  {
   "cell_type": "code",
   "execution_count": 29,
   "metadata": {},
   "outputs": [],
   "source": [
    "away_X = away_data.drop(columns=\"scores\")\n",
    "away_y = away_data[\"scores\"]"
   ]
  },
  {
   "cell_type": "code",
   "execution_count": 30,
   "metadata": {},
   "outputs": [],
   "source": [
    "away_sqrt_tmhalf = np.sqrt(away_X.tmhalfsc)\n",
    "away_X[\"tmhalfsc\"] = away_sqrt_tmhalf"
   ]
  },
  {
   "cell_type": "code",
   "execution_count": 31,
   "metadata": {},
   "outputs": [],
   "source": [
    "away_bag_lm = LinearRegression()\n",
    "away_bag = BaggingRegressor(away_bag_lm, bootstrap=True, n_estimators=10)"
   ]
  },
  {
   "cell_type": "code",
   "execution_count": 32,
   "metadata": {},
   "outputs": [],
   "source": [
    "away_scores, away_rmse_sc, away_r2_sc = run_model(away_bag, away_X, away_y, 1000)"
   ]
  },
  {
   "cell_type": "code",
   "execution_count": 33,
   "metadata": {},
   "outputs": [
    {
     "name": "stdout",
     "output_type": "stream",
     "text": [
      "Models sorted on RMSE ascending:\n",
      "Random State: 232\n",
      "RMSE: 0.7476\n",
      "R^2: 0.5319\n"
     ]
    }
   ],
   "source": [
    "away_best_state = away_scores[0]\n",
    "print(\"Models sorted on RMSE ascending:\")\n",
    "print(f\"Random State: {away_best_state[0]}\")\n",
    "print(f\"RMSE: {away_best_state[1]:.4f}\")\n",
    "print(f\"R^2: {away_best_state[2]:.4f}\")"
   ]
  },
  {
   "cell_type": "code",
   "execution_count": 34,
   "metadata": {},
   "outputs": [
    {
     "name": "stdout",
     "output_type": "stream",
     "text": [
      "Mean RMSE: 0.8481006920485222\n",
      "Median RMSE: 0.8481\n",
      "Mean R^2: 0.4893\n",
      "Median R^2: 0.4924\n"
     ]
    }
   ],
   "source": [
    "print(f\"Mean RMSE: {np.mean(away_rmse_sc)}\")\n",
    "print(f\"Median RMSE: {np.median(away_rmse_sc):.4f}\")\n",
    "print(f\"Mean R^2: {np.mean(away_r2_sc):.4f}\")\n",
    "print(f\"Median R^2: {np.median(away_r2_sc):.4f}\")"
   ]
  },
  {
   "cell_type": "code",
   "execution_count": null,
   "metadata": {},
   "outputs": [],
   "source": []
  }
 ],
 "metadata": {
  "kernelspec": {
   "display_name": "Python 3",
   "language": "python",
   "name": "python3"
  },
  "language_info": {
   "codemirror_mode": {
    "name": "ipython",
    "version": 3
   },
   "file_extension": ".py",
   "mimetype": "text/x-python",
   "name": "python",
   "nbconvert_exporter": "python",
   "pygments_lexer": "ipython3",
   "version": "3.6.5"
  }
 },
 "nbformat": 4,
 "nbformat_minor": 2
}
