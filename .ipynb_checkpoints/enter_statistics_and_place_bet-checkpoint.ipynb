{
 "cells": [
  {
   "cell_type": "markdown",
   "metadata": {},
   "source": [
    "# At halftime of an NFL game, enter the appropriate statistics for the home and away team. Please see a summary of the specific statistics below for any clarifications"
   ]
  },
  {
   "cell_type": "code",
   "execution_count": 1,
   "metadata": {
    "ExecuteTime": {
     "end_time": "2019-05-27T20:42:12.876889Z",
     "start_time": "2019-05-27T20:42:12.153745Z"
    },
    "slideshow": {
     "slide_type": "slide"
    }
   },
   "outputs": [],
   "source": [
    "from sklearn.linear_model import LinearRegression\n",
    "from sklearn.ensemble import BaggingRegressor\n",
    "import numpy as np\n",
    "import pandas as pd"
   ]
  },
  {
   "cell_type": "code",
   "execution_count": 2,
   "metadata": {
    "ExecuteTime": {
     "end_time": "2019-05-27T20:42:12.896916Z",
     "start_time": "2019-05-27T20:42:12.879948Z"
    },
    "slideshow": {
     "slide_type": "fragment"
    }
   },
   "outputs": [],
   "source": [
    "# loading historical NFL play data\n",
    "reduced = pd.read_csv(\"data/final.csv\")\n",
    "reduced = reduced.drop(columns=\"Unnamed: 0\")"
   ]
  },
  {
   "cell_type": "code",
   "execution_count": 3,
   "metadata": {
    "ExecuteTime": {
     "end_time": "2019-05-27T20:42:12.925855Z",
     "start_time": "2019-05-27T20:42:12.898815Z"
    }
   },
   "outputs": [
    {
     "data": {
      "text/html": [
       "<div>\n",
       "<style scoped>\n",
       "    .dataframe tbody tr th:only-of-type {\n",
       "        vertical-align: middle;\n",
       "    }\n",
       "\n",
       "    .dataframe tbody tr th {\n",
       "        vertical-align: top;\n",
       "    }\n",
       "\n",
       "    .dataframe thead th {\n",
       "        text-align: right;\n",
       "    }\n",
       "</style>\n",
       "<table border=\"1\" class=\"dataframe\">\n",
       "  <thead>\n",
       "    <tr style=\"text-align: right;\">\n",
       "      <th></th>\n",
       "      <th>scores</th>\n",
       "      <th>predscores</th>\n",
       "      <th>tmhalfsc</th>\n",
       "      <th>opphalfsc</th>\n",
       "      <th>patt</th>\n",
       "      <th>ypa</th>\n",
       "      <th>comppct</th>\n",
       "      <th>ratt</th>\n",
       "      <th>ypr</th>\n",
       "      <th>int_pct</th>\n",
       "      <th>sack_pct</th>\n",
       "      <th>sack_yd_pct</th>\n",
       "      <th>fum_pct</th>\n",
       "    </tr>\n",
       "  </thead>\n",
       "  <tbody>\n",
       "    <tr>\n",
       "      <th>0</th>\n",
       "      <td>16.0</td>\n",
       "      <td>24.75</td>\n",
       "      <td>6.0</td>\n",
       "      <td>13.0</td>\n",
       "      <td>19.0</td>\n",
       "      <td>6.736842</td>\n",
       "      <td>0.578947</td>\n",
       "      <td>8.0</td>\n",
       "      <td>1.500000</td>\n",
       "      <td>0.105263</td>\n",
       "      <td>0.095238</td>\n",
       "      <td>-0.523810</td>\n",
       "      <td>0.000000</td>\n",
       "    </tr>\n",
       "    <tr>\n",
       "      <th>1</th>\n",
       "      <td>38.0</td>\n",
       "      <td>24.75</td>\n",
       "      <td>10.0</td>\n",
       "      <td>7.0</td>\n",
       "      <td>25.0</td>\n",
       "      <td>7.000000</td>\n",
       "      <td>0.640000</td>\n",
       "      <td>13.0</td>\n",
       "      <td>3.384615</td>\n",
       "      <td>0.000000</td>\n",
       "      <td>0.038462</td>\n",
       "      <td>-0.230769</td>\n",
       "      <td>0.025641</td>\n",
       "    </tr>\n",
       "    <tr>\n",
       "      <th>2</th>\n",
       "      <td>20.0</td>\n",
       "      <td>17.75</td>\n",
       "      <td>13.0</td>\n",
       "      <td>10.0</td>\n",
       "      <td>11.0</td>\n",
       "      <td>4.272727</td>\n",
       "      <td>0.636364</td>\n",
       "      <td>15.0</td>\n",
       "      <td>3.466667</td>\n",
       "      <td>0.000000</td>\n",
       "      <td>0.153846</td>\n",
       "      <td>-0.769231</td>\n",
       "      <td>0.071429</td>\n",
       "    </tr>\n",
       "    <tr>\n",
       "      <th>3</th>\n",
       "      <td>7.0</td>\n",
       "      <td>24.75</td>\n",
       "      <td>0.0</td>\n",
       "      <td>10.0</td>\n",
       "      <td>15.0</td>\n",
       "      <td>5.466667</td>\n",
       "      <td>0.666667</td>\n",
       "      <td>10.0</td>\n",
       "      <td>2.200000</td>\n",
       "      <td>0.000000</td>\n",
       "      <td>0.000000</td>\n",
       "      <td>0.000000</td>\n",
       "      <td>0.040000</td>\n",
       "    </tr>\n",
       "    <tr>\n",
       "      <th>4</th>\n",
       "      <td>14.0</td>\n",
       "      <td>25.50</td>\n",
       "      <td>7.0</td>\n",
       "      <td>6.0</td>\n",
       "      <td>21.0</td>\n",
       "      <td>8.333333</td>\n",
       "      <td>0.714286</td>\n",
       "      <td>15.0</td>\n",
       "      <td>2.733333</td>\n",
       "      <td>0.047619</td>\n",
       "      <td>0.045455</td>\n",
       "      <td>-0.318182</td>\n",
       "      <td>0.027027</td>\n",
       "    </tr>\n",
       "  </tbody>\n",
       "</table>\n",
       "</div>"
      ],
      "text/plain": [
       "   scores  predscores  tmhalfsc  opphalfsc  patt       ypa   comppct  ratt  \\\n",
       "0    16.0       24.75       6.0       13.0  19.0  6.736842  0.578947   8.0   \n",
       "1    38.0       24.75      10.0        7.0  25.0  7.000000  0.640000  13.0   \n",
       "2    20.0       17.75      13.0       10.0  11.0  4.272727  0.636364  15.0   \n",
       "3     7.0       24.75       0.0       10.0  15.0  5.466667  0.666667  10.0   \n",
       "4    14.0       25.50       7.0        6.0  21.0  8.333333  0.714286  15.0   \n",
       "\n",
       "        ypr   int_pct  sack_pct  sack_yd_pct   fum_pct  \n",
       "0  1.500000  0.105263  0.095238    -0.523810  0.000000  \n",
       "1  3.384615  0.000000  0.038462    -0.230769  0.025641  \n",
       "2  3.466667  0.000000  0.153846    -0.769231  0.071429  \n",
       "3  2.200000  0.000000  0.000000     0.000000  0.040000  \n",
       "4  2.733333  0.047619  0.045455    -0.318182  0.027027  "
      ]
     },
     "execution_count": 3,
     "metadata": {},
     "output_type": "execute_result"
    }
   ],
   "source": [
    "reduced.head()"
   ]
  },
  {
   "cell_type": "markdown",
   "metadata": {},
   "source": [
    "### Statistics for each team (ok to enter as fractions):\n",
    "- team_predicted: \n",
    "- team_half_sc: team's total score at halftime\n",
    "- team_patt: team's total number of pass attempts\n",
    "- team_ypa: team's yards per pass attempt\n",
    "- team_comppct: team's passing completing percentage\n",
    "- team_ratt: team's total number of rushing attempts\n",
    "- team_ypr: team's yards pre rushing attempt\n",
    "- team_int_pct: offense's interceptions thrown / pass attempts"
   ]
  },
  {
   "cell_type": "code",
   "execution_count": 4,
   "metadata": {
    "ExecuteTime": {
     "end_time": "2019-05-27T20:42:12.936156Z",
     "start_time": "2019-05-27T20:42:12.930211Z"
    },
    "slideshow": {
     "slide_type": "slide"
    }
   },
   "outputs": [],
   "source": [
    "away_predicted = (37 / 2) - (5.5 / 2)\n",
    "home_predicted = (37 / 2) + (5.5 / 2)\n",
    "away_half_sc = 2\n",
    "home_half_sc = 16\n",
    "away_patt = 17\n",
    "home_patt = 16\n",
    "away_ypa = 3.8\n",
    "home_ypa = 6.0\n",
    "away_comppct = 12 / 17\n",
    "home_comppct = 12 / 16\n",
    "away_ratt = 15\n",
    "home_ratt = 11\n",
    "away_ypr = 1.7\n",
    "home_ypr = 12.8\n",
    "away_int_pct = 0\n",
    "home_int_pct = 1 / 17"
   ]
  },
  {
   "cell_type": "code",
   "execution_count": 5,
   "metadata": {
    "ExecuteTime": {
     "end_time": "2019-05-27T20:42:12.944656Z",
     "start_time": "2019-05-27T20:42:12.939964Z"
    },
    "slideshow": {
     "slide_type": "slide"
    }
   },
   "outputs": [],
   "source": [
    "predscores = [home_predicted, away_predicted]\n",
    "tmhalfsc = [home_half_sc, away_half_sc]\n",
    "opphalfsc = [away_half_sc, home_half_sc]\n",
    "patt = [home_patt, away_patt]\n",
    "ypa = [home_ypa, away_ypa]\n",
    "comppct = [home_comppct, away_comppct]\n",
    "ratt = [home_ratt, away_ratt]\n",
    "ypr = [home_ypr, away_ypr]\n",
    "int_pct = [home_int_pct, away_int_pct]"
   ]
  },
  {
   "cell_type": "code",
   "execution_count": 6,
   "metadata": {
    "ExecuteTime": {
     "end_time": "2019-05-27T20:42:12.950821Z",
     "start_time": "2019-05-27T20:42:12.946866Z"
    },
    "slideshow": {
     "slide_type": "fragment"
    }
   },
   "outputs": [],
   "source": [
    "thursday_night = np.array([predscores, tmhalfsc, opphalfsc, patt, \n",
    "                           ypa, comppct, ratt, ypr, int_pct]).T\n",
    "final_score = [30, 9]\n",
    "pre_game_pred = [int(x) for x in predscores]"
   ]
  },
  {
   "cell_type": "code",
   "execution_count": 7,
   "metadata": {
    "ExecuteTime": {
     "end_time": "2019-05-27T20:42:12.959708Z",
     "start_time": "2019-05-27T20:42:12.953827Z"
    },
    "slideshow": {
     "slide_type": "slide"
    }
   },
   "outputs": [],
   "source": [
    "# dropping statistically insignificant features\n",
    "X = reduced.drop(columns=[\"scores\", \"int_pct\", \"sack_pct\", \n",
    "                          \"sack_yd_pct\", \"fum_pct\"])\n",
    "y = reduced.scores"
   ]
  },
  {
   "cell_type": "code",
   "execution_count": 8,
   "metadata": {
    "ExecuteTime": {
     "end_time": "2019-05-27T20:42:12.966458Z",
     "start_time": "2019-05-27T20:42:12.961910Z"
    },
    "slideshow": {
     "slide_type": "fragment"
    }
   },
   "outputs": [],
   "source": [
    "bag = BaggingRegressor(LinearRegression(), n_estimators=59, max_samples=0.92,\n",
    "                             bootstrap=True, n_jobs=-1)"
   ]
  },
  {
   "cell_type": "code",
   "execution_count": 9,
   "metadata": {
    "ExecuteTime": {
     "end_time": "2019-05-27T20:42:14.314844Z",
     "start_time": "2019-05-27T20:42:12.968824Z"
    },
    "slideshow": {
     "slide_type": "fragment"
    }
   },
   "outputs": [
    {
     "data": {
      "text/plain": [
       "BaggingRegressor(base_estimator=LinearRegression(copy_X=True, fit_intercept=True, n_jobs=None,\n",
       "         normalize=False),\n",
       "         bootstrap=True, bootstrap_features=False, max_features=1.0,\n",
       "         max_samples=0.92, n_estimators=59, n_jobs=-1, oob_score=False,\n",
       "         random_state=None, verbose=0, warm_start=False)"
      ]
     },
     "execution_count": 9,
     "metadata": {},
     "output_type": "execute_result"
    }
   ],
   "source": [
    "bag.fit(X, y)"
   ]
  },
  {
   "cell_type": "code",
   "execution_count": 10,
   "metadata": {
    "ExecuteTime": {
     "end_time": "2019-05-27T20:42:14.340761Z",
     "start_time": "2019-05-27T20:42:14.319460Z"
    },
    "slideshow": {
     "slide_type": "slide"
    }
   },
   "outputs": [],
   "source": [
    "pred = bag.predict(thursday_night)"
   ]
  },
  {
   "cell_type": "code",
   "execution_count": 11,
   "metadata": {
    "ExecuteTime": {
     "end_time": "2019-05-27T20:42:14.347849Z",
     "start_time": "2019-05-27T20:42:14.343856Z"
    },
    "slideshow": {
     "slide_type": "fragment"
    }
   },
   "outputs": [],
   "source": [
    "pred = [int(x) for x in pred]"
   ]
  },
  {
   "cell_type": "code",
   "execution_count": 15,
   "metadata": {
    "ExecuteTime": {
     "end_time": "2019-05-27T20:42:27.514832Z",
     "start_time": "2019-05-27T20:42:27.509357Z"
    },
    "scrolled": true,
    "slideshow": {
     "slide_type": "fragment"
    }
   },
   "outputs": [],
   "source": [
    "results = pd.DataFrame([pre_game_pred, pred, final_score], \n",
    "                       columns=[\"Home\", \"Away\"], \n",
    "                       index=[\"Pre-Game Prediction\", \"Half-Time Prediction\", \n",
    "                              \"Actual\"])"
   ]
  },
  {
   "cell_type": "code",
   "execution_count": 16,
   "metadata": {
    "ExecuteTime": {
     "end_time": "2019-05-27T20:42:27.899694Z",
     "start_time": "2019-05-27T20:42:27.892062Z"
    }
   },
   "outputs": [
    {
     "data": {
      "text/html": [
       "<div>\n",
       "<style scoped>\n",
       "    .dataframe tbody tr th:only-of-type {\n",
       "        vertical-align: middle;\n",
       "    }\n",
       "\n",
       "    .dataframe tbody tr th {\n",
       "        vertical-align: top;\n",
       "    }\n",
       "\n",
       "    .dataframe thead th {\n",
       "        text-align: right;\n",
       "    }\n",
       "</style>\n",
       "<table border=\"1\" class=\"dataframe\">\n",
       "  <thead>\n",
       "    <tr style=\"text-align: right;\">\n",
       "      <th></th>\n",
       "      <th>Home</th>\n",
       "      <th>Away</th>\n",
       "    </tr>\n",
       "  </thead>\n",
       "  <tbody>\n",
       "    <tr>\n",
       "      <th>Pre-Game Prediction</th>\n",
       "      <td>21</td>\n",
       "      <td>15</td>\n",
       "    </tr>\n",
       "    <tr>\n",
       "      <th>Half-Time Prediction</th>\n",
       "      <td>26</td>\n",
       "      <td>9</td>\n",
       "    </tr>\n",
       "    <tr>\n",
       "      <th>Actual</th>\n",
       "      <td>30</td>\n",
       "      <td>9</td>\n",
       "    </tr>\n",
       "  </tbody>\n",
       "</table>\n",
       "</div>"
      ],
      "text/plain": [
       "                      Home  Away\n",
       "Pre-Game Prediction     21    15\n",
       "Half-Time Prediction    26     9\n",
       "Actual                  30     9"
      ]
     },
     "execution_count": 16,
     "metadata": {},
     "output_type": "execute_result"
    }
   ],
   "source": [
    "results"
   ]
  },
  {
   "cell_type": "code",
   "execution_count": null,
   "metadata": {},
   "outputs": [],
   "source": []
  }
 ],
 "metadata": {
  "kernelspec": {
   "display_name": "Python 3",
   "language": "python",
   "name": "python3"
  },
  "language_info": {
   "codemirror_mode": {
    "name": "ipython",
    "version": 3
   },
   "file_extension": ".py",
   "mimetype": "text/x-python",
   "name": "python",
   "nbconvert_exporter": "python",
   "pygments_lexer": "ipython3",
   "version": "3.6.6"
  }
 },
 "nbformat": 4,
 "nbformat_minor": 2
}
