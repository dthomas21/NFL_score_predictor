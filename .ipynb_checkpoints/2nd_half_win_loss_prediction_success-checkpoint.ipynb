{
 "cells": [
  {
   "cell_type": "markdown",
   "metadata": {},
   "source": [
    "# Predicting Win/Loss with Logistic Regression"
   ]
  },
  {
   "cell_type": "markdown",
   "metadata": {},
   "source": [
    "Load Data\n",
    "-----"
   ]
  },
  {
   "cell_type": "code",
   "execution_count": 1,
   "metadata": {
    "ExecuteTime": {
     "end_time": "2019-05-27T20:10:14.989640Z",
     "start_time": "2019-05-27T20:10:14.402848Z"
    }
   },
   "outputs": [],
   "source": [
    "import pandas as pd\n",
    "cleaned_data = pd.read_csv(\"data/nfl_filtered.csv\")"
   ]
  },
  {
   "cell_type": "markdown",
   "metadata": {},
   "source": [
    "Fit scikit-learn model\n",
    "----"
   ]
  },
  {
   "cell_type": "code",
   "execution_count": 2,
   "metadata": {
    "ExecuteTime": {
     "end_time": "2019-05-27T20:10:15.785362Z",
     "start_time": "2019-05-27T20:10:14.991820Z"
    }
   },
   "outputs": [
    {
     "name": "stdout",
     "output_type": "stream",
     "text": [
      "0.8174\n"
     ]
    }
   ],
   "source": [
    "from sklearn.linear_model import LogisticRegression\n",
    "from sklearn.model_selection import train_test_split\n",
    "from sklearn.metrics import accuracy_score, confusion_matrix\n",
    "\n",
    "headers = cleaned_data.columns\n",
    "# set up X and Y\n",
    "y = cleaned_data[[\"home_wn\"]]\n",
    "X = cleaned_data[['Spread Favorite', 'Over Under','hmhalfsc', 'hpyd',\n",
    "                          'hpatt', 'hcomp', 'hypa', 'hcomppct', 'hint',\n",
    "                          'hryd', 'hratt', 'hypr', 'awhalfsc', 'apyd',\n",
    "                          'apatt', 'acomp', 'aypa', 'acomppct', 'aint',\n",
    "                          'aryd', 'aratt', 'aypr']]\n",
    "# split data into training and testing\n",
    "X_train, X_test, y_train, y_test = train_test_split(X, y, test_size=0.33, random_state=42)\n",
    "# fit model to training data\n",
    "log_reg = LogisticRegression(solver=\"lbfgs\", max_iter=750).fit(X_train,y_train.values.ravel())\n",
    "pred = log_reg.predict(X_test)\n",
    "print(f\"{accuracy_score(y_test, pred):.4f}\")"
   ]
  },
  {
   "cell_type": "code",
   "execution_count": 3,
   "metadata": {
    "ExecuteTime": {
     "end_time": "2019-05-27T20:10:15.805481Z",
     "start_time": "2019-05-27T20:10:15.787661Z"
    }
   },
   "outputs": [
    {
     "data": {
      "text/html": [
       "<div>\n",
       "<style scoped>\n",
       "    .dataframe tbody tr th:only-of-type {\n",
       "        vertical-align: middle;\n",
       "    }\n",
       "\n",
       "    .dataframe tbody tr th {\n",
       "        vertical-align: top;\n",
       "    }\n",
       "\n",
       "    .dataframe thead th {\n",
       "        text-align: right;\n",
       "    }\n",
       "</style>\n",
       "<table border=\"1\" class=\"dataframe\">\n",
       "  <thead>\n",
       "    <tr style=\"text-align: right;\">\n",
       "      <th></th>\n",
       "      <th>Predicted L</th>\n",
       "      <th>Predicted W</th>\n",
       "    </tr>\n",
       "  </thead>\n",
       "  <tbody>\n",
       "    <tr>\n",
       "      <th>Actual L</th>\n",
       "      <td>184</td>\n",
       "      <td>57</td>\n",
       "    </tr>\n",
       "    <tr>\n",
       "      <th>Actual W</th>\n",
       "      <td>48</td>\n",
       "      <td>286</td>\n",
       "    </tr>\n",
       "  </tbody>\n",
       "</table>\n",
       "</div>"
      ],
      "text/plain": [
       "          Predicted L  Predicted W\n",
       "Actual L          184           57\n",
       "Actual W           48          286"
      ]
     },
     "execution_count": 3,
     "metadata": {},
     "output_type": "execute_result"
    }
   ],
   "source": [
    "conf_mtx = confusion_matrix(y_test, pred)\n",
    "pd.DataFrame(conf_mtx, columns=[\"Predicted L\", \"Predicted W\"], index=[\"Actual L\", \"Actual W\"])"
   ]
  },
  {
   "cell_type": "markdown",
   "metadata": {},
   "source": [
    "Evaluation Metric\n",
    "----"
   ]
  },
  {
   "cell_type": "code",
   "execution_count": 4,
   "metadata": {
    "ExecuteTime": {
     "end_time": "2019-05-27T20:10:15.813392Z",
     "start_time": "2019-05-27T20:10:15.808539Z"
    }
   },
   "outputs": [
    {
     "name": "stdout",
     "output_type": "stream",
     "text": [
      "Precision: 0.834\n",
      "Recall: 0.856\n",
      "Accuracy: 0.817\n"
     ]
    }
   ],
   "source": [
    "print(f'Precision: {conf_mtx[1,1] / (conf_mtx[1,1] + conf_mtx[0,1]):.3f}')\n",
    "print(f'Recall: {conf_mtx[1,1] / (conf_mtx[1,0] + conf_mtx[1,1]):.3f}')\n",
    "print(f'Accuracy: {(conf_mtx[0,0] + conf_mtx[1,1]) / conf_mtx.sum():.3f}')"
   ]
  },
  {
   "cell_type": "code",
   "execution_count": 5,
   "metadata": {
    "ExecuteTime": {
     "end_time": "2019-05-27T20:10:15.821698Z",
     "start_time": "2019-05-27T20:10:15.816643Z"
    }
   },
   "outputs": [
    {
     "data": {
      "text/plain": [
       "'This model correctly predicted the winner and loser of 575 NFL games with 0.817% accuracy using statistics from the first half of play'"
      ]
     },
     "execution_count": 5,
     "metadata": {},
     "output_type": "execute_result"
    }
   ],
   "source": [
    "f'This model correctly predicted the winner and loser of 575 NFL games with {(conf_mtx[0,0] + conf_mtx[1,1]) / conf_mtx.sum():.3f}% accuracy using statistics from the first half of play'"
   ]
  }
 ],
 "metadata": {
  "kernelspec": {
   "display_name": "Python 3",
   "language": "python",
   "name": "python3"
  },
  "language_info": {
   "codemirror_mode": {
    "name": "ipython",
    "version": 3
   },
   "file_extension": ".py",
   "mimetype": "text/x-python",
   "name": "python",
   "nbconvert_exporter": "python",
   "pygments_lexer": "ipython3",
   "version": "3.6.6"
  }
 },
 "nbformat": 4,
 "nbformat_minor": 2
}
