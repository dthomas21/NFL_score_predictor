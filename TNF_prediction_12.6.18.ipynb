{
 "cells": [
  {
   "cell_type": "code",
   "execution_count": 1,
   "metadata": {
    "ExecuteTime": {
     "end_time": "2019-05-27T20:33:05.291476Z",
     "start_time": "2019-05-27T20:33:04.603411Z"
    },
    "slideshow": {
     "slide_type": "slide"
    }
   },
   "outputs": [],
   "source": [
    "from sklearn.linear_model import LinearRegression\n",
    "from sklearn.ensemble import BaggingRegressor\n",
    "import numpy as np\n",
    "import pandas as pd\n",
    "from IPython.display import Image"
   ]
  },
  {
   "cell_type": "code",
   "execution_count": 2,
   "metadata": {
    "ExecuteTime": {
     "end_time": "2019-05-27T20:33:05.311263Z",
     "start_time": "2019-05-27T20:33:05.294344Z"
    },
    "slideshow": {
     "slide_type": "fragment"
    }
   },
   "outputs": [],
   "source": [
    "reduced = pd.read_csv(\"data/final.csv\")\n",
    "reduced = reduced.drop(columns=\"Unnamed: 0\")"
   ]
  },
  {
   "cell_type": "code",
   "execution_count": 3,
   "metadata": {
    "ExecuteTime": {
     "end_time": "2019-05-27T20:33:05.334544Z",
     "start_time": "2019-05-27T20:33:05.313164Z"
    }
   },
   "outputs": [
    {
     "data": {
      "text/html": [
       "<div>\n",
       "<style scoped>\n",
       "    .dataframe tbody tr th:only-of-type {\n",
       "        vertical-align: middle;\n",
       "    }\n",
       "\n",
       "    .dataframe tbody tr th {\n",
       "        vertical-align: top;\n",
       "    }\n",
       "\n",
       "    .dataframe thead th {\n",
       "        text-align: right;\n",
       "    }\n",
       "</style>\n",
       "<table border=\"1\" class=\"dataframe\">\n",
       "  <thead>\n",
       "    <tr style=\"text-align: right;\">\n",
       "      <th></th>\n",
       "      <th>scores</th>\n",
       "      <th>predscores</th>\n",
       "      <th>tmhalfsc</th>\n",
       "      <th>opphalfsc</th>\n",
       "      <th>patt</th>\n",
       "      <th>ypa</th>\n",
       "      <th>comppct</th>\n",
       "      <th>ratt</th>\n",
       "      <th>ypr</th>\n",
       "      <th>int_pct</th>\n",
       "      <th>sack_pct</th>\n",
       "      <th>sack_yd_pct</th>\n",
       "      <th>fum_pct</th>\n",
       "    </tr>\n",
       "  </thead>\n",
       "  <tbody>\n",
       "    <tr>\n",
       "      <th>0</th>\n",
       "      <td>16.0</td>\n",
       "      <td>24.75</td>\n",
       "      <td>6.0</td>\n",
       "      <td>13.0</td>\n",
       "      <td>19.0</td>\n",
       "      <td>6.736842</td>\n",
       "      <td>0.578947</td>\n",
       "      <td>8.0</td>\n",
       "      <td>1.500000</td>\n",
       "      <td>0.105263</td>\n",
       "      <td>0.095238</td>\n",
       "      <td>-0.523810</td>\n",
       "      <td>0.000000</td>\n",
       "    </tr>\n",
       "    <tr>\n",
       "      <th>1</th>\n",
       "      <td>38.0</td>\n",
       "      <td>24.75</td>\n",
       "      <td>10.0</td>\n",
       "      <td>7.0</td>\n",
       "      <td>25.0</td>\n",
       "      <td>7.000000</td>\n",
       "      <td>0.640000</td>\n",
       "      <td>13.0</td>\n",
       "      <td>3.384615</td>\n",
       "      <td>0.000000</td>\n",
       "      <td>0.038462</td>\n",
       "      <td>-0.230769</td>\n",
       "      <td>0.025641</td>\n",
       "    </tr>\n",
       "    <tr>\n",
       "      <th>2</th>\n",
       "      <td>20.0</td>\n",
       "      <td>17.75</td>\n",
       "      <td>13.0</td>\n",
       "      <td>10.0</td>\n",
       "      <td>11.0</td>\n",
       "      <td>4.272727</td>\n",
       "      <td>0.636364</td>\n",
       "      <td>15.0</td>\n",
       "      <td>3.466667</td>\n",
       "      <td>0.000000</td>\n",
       "      <td>0.153846</td>\n",
       "      <td>-0.769231</td>\n",
       "      <td>0.071429</td>\n",
       "    </tr>\n",
       "    <tr>\n",
       "      <th>3</th>\n",
       "      <td>7.0</td>\n",
       "      <td>24.75</td>\n",
       "      <td>0.0</td>\n",
       "      <td>10.0</td>\n",
       "      <td>15.0</td>\n",
       "      <td>5.466667</td>\n",
       "      <td>0.666667</td>\n",
       "      <td>10.0</td>\n",
       "      <td>2.200000</td>\n",
       "      <td>0.000000</td>\n",
       "      <td>0.000000</td>\n",
       "      <td>0.000000</td>\n",
       "      <td>0.040000</td>\n",
       "    </tr>\n",
       "    <tr>\n",
       "      <th>4</th>\n",
       "      <td>14.0</td>\n",
       "      <td>25.50</td>\n",
       "      <td>7.0</td>\n",
       "      <td>6.0</td>\n",
       "      <td>21.0</td>\n",
       "      <td>8.333333</td>\n",
       "      <td>0.714286</td>\n",
       "      <td>15.0</td>\n",
       "      <td>2.733333</td>\n",
       "      <td>0.047619</td>\n",
       "      <td>0.045455</td>\n",
       "      <td>-0.318182</td>\n",
       "      <td>0.027027</td>\n",
       "    </tr>\n",
       "  </tbody>\n",
       "</table>\n",
       "</div>"
      ],
      "text/plain": [
       "   scores  predscores  tmhalfsc  opphalfsc  patt       ypa   comppct  ratt  \\\n",
       "0    16.0       24.75       6.0       13.0  19.0  6.736842  0.578947   8.0   \n",
       "1    38.0       24.75      10.0        7.0  25.0  7.000000  0.640000  13.0   \n",
       "2    20.0       17.75      13.0       10.0  11.0  4.272727  0.636364  15.0   \n",
       "3     7.0       24.75       0.0       10.0  15.0  5.466667  0.666667  10.0   \n",
       "4    14.0       25.50       7.0        6.0  21.0  8.333333  0.714286  15.0   \n",
       "\n",
       "        ypr   int_pct  sack_pct  sack_yd_pct   fum_pct  \n",
       "0  1.500000  0.105263  0.095238    -0.523810  0.000000  \n",
       "1  3.384615  0.000000  0.038462    -0.230769  0.025641  \n",
       "2  3.466667  0.000000  0.153846    -0.769231  0.071429  \n",
       "3  2.200000  0.000000  0.000000     0.000000  0.040000  \n",
       "4  2.733333  0.047619  0.045455    -0.318182  0.027027  "
      ]
     },
     "execution_count": 3,
     "metadata": {},
     "output_type": "execute_result"
    }
   ],
   "source": [
    "reduced.head()"
   ]
  },
  {
   "cell_type": "code",
   "execution_count": 4,
   "metadata": {
    "ExecuteTime": {
     "end_time": "2019-05-27T20:33:05.342670Z",
     "start_time": "2019-05-27T20:33:05.338250Z"
    },
    "slideshow": {
     "slide_type": "slide"
    }
   },
   "outputs": [],
   "source": [
    "jag_predicted = (37 / 2) - (5.5 / 2)\n",
    "titan_predicted = (37 / 2) + (5.5 / 2)\n",
    "jag_half_sc = 2\n",
    "titan_half_sc = 16\n",
    "jag_patt = 17\n",
    "titan_patt = 16\n",
    "jag_ypa = 3.8\n",
    "titan_ypa = 6.0\n",
    "jag_comppct = 12 / 17\n",
    "titan_comppct = 12 / 16\n",
    "jag_ratt = 15\n",
    "titan_ratt = 11\n",
    "jag_ypr = 1.7\n",
    "titan_ypr = 12.8\n",
    "jag_int_pct = 0\n",
    "titan_int_pct = 1 / 17"
   ]
  },
  {
   "cell_type": "code",
   "execution_count": 5,
   "metadata": {
    "ExecuteTime": {
     "end_time": "2019-05-27T20:33:05.349974Z",
     "start_time": "2019-05-27T20:33:05.346003Z"
    },
    "slideshow": {
     "slide_type": "slide"
    }
   },
   "outputs": [],
   "source": [
    "predscores = [titan_predicted, jag_predicted]\n",
    "tmhalfsc = [titan_half_sc, jag_half_sc]\n",
    "opphalfsc = [jag_half_sc, titan_half_sc]\n",
    "patt = [titan_patt, jag_patt]\n",
    "ypa = [titan_ypa, jag_ypa]\n",
    "comppct = [titan_comppct, jag_comppct]\n",
    "ratt = [titan_ratt, jag_ratt]\n",
    "ypr = [titan_ypr, jag_ypr]\n",
    "int_pct = [titan_int_pct, jag_int_pct]"
   ]
  },
  {
   "cell_type": "code",
   "execution_count": 6,
   "metadata": {
    "ExecuteTime": {
     "end_time": "2019-05-27T20:33:05.355248Z",
     "start_time": "2019-05-27T20:33:05.351993Z"
    },
    "slideshow": {
     "slide_type": "fragment"
    }
   },
   "outputs": [],
   "source": [
    "thursday_night = np.array([predscores, tmhalfsc, opphalfsc, patt, \n",
    "                           ypa, comppct, ratt, ypr, int_pct]).T\n",
    "final_score = [30, 9]\n",
    "pre_game_pred = [int(x) for x in predscores]"
   ]
  },
  {
   "cell_type": "code",
   "execution_count": 7,
   "metadata": {
    "ExecuteTime": {
     "end_time": "2019-05-27T20:33:05.361062Z",
     "start_time": "2019-05-27T20:33:05.357405Z"
    },
    "slideshow": {
     "slide_type": "slide"
    }
   },
   "outputs": [],
   "source": [
    "X = reduced.drop(columns=[\"scores\", \"int_pct\", \"sack_pct\", \n",
    "                          \"sack_yd_pct\", \"fum_pct\"])\n",
    "y = reduced.scores"
   ]
  },
  {
   "cell_type": "code",
   "execution_count": 8,
   "metadata": {
    "ExecuteTime": {
     "end_time": "2019-05-27T20:33:05.365888Z",
     "start_time": "2019-05-27T20:33:05.362839Z"
    },
    "slideshow": {
     "slide_type": "fragment"
    }
   },
   "outputs": [],
   "source": [
    "bag = BaggingRegressor(LinearRegression(), n_estimators=59, max_samples=0.92,\n",
    "                             bootstrap=True, n_jobs=-1)"
   ]
  },
  {
   "cell_type": "code",
   "execution_count": 9,
   "metadata": {
    "ExecuteTime": {
     "end_time": "2019-05-27T20:33:06.501306Z",
     "start_time": "2019-05-27T20:33:05.369127Z"
    },
    "slideshow": {
     "slide_type": "fragment"
    }
   },
   "outputs": [
    {
     "data": {
      "text/plain": [
       "BaggingRegressor(base_estimator=LinearRegression(copy_X=True, fit_intercept=True, n_jobs=None,\n",
       "         normalize=False),\n",
       "         bootstrap=True, bootstrap_features=False, max_features=1.0,\n",
       "         max_samples=0.92, n_estimators=59, n_jobs=-1, oob_score=False,\n",
       "         random_state=None, verbose=0, warm_start=False)"
      ]
     },
     "execution_count": 9,
     "metadata": {},
     "output_type": "execute_result"
    }
   ],
   "source": [
    "bag.fit(X, y)"
   ]
  },
  {
   "cell_type": "code",
   "execution_count": 10,
   "metadata": {
    "ExecuteTime": {
     "end_time": "2019-05-27T20:33:06.525389Z",
     "start_time": "2019-05-27T20:33:06.504608Z"
    },
    "slideshow": {
     "slide_type": "slide"
    }
   },
   "outputs": [],
   "source": [
    "pred = bag.predict(thursday_night)"
   ]
  },
  {
   "cell_type": "code",
   "execution_count": 11,
   "metadata": {
    "ExecuteTime": {
     "end_time": "2019-05-27T20:33:06.531093Z",
     "start_time": "2019-05-27T20:33:06.527686Z"
    },
    "slideshow": {
     "slide_type": "fragment"
    }
   },
   "outputs": [],
   "source": [
    "pred = [int(x) for x in pred]"
   ]
  },
  {
   "cell_type": "code",
   "execution_count": 12,
   "metadata": {
    "ExecuteTime": {
     "end_time": "2019-05-27T20:33:06.539529Z",
     "start_time": "2019-05-27T20:33:06.533598Z"
    },
    "scrolled": true,
    "slideshow": {
     "slide_type": "fragment"
    }
   },
   "outputs": [],
   "source": [
    "results = pd.DataFrame([pre_game_pred, pred, final_score], \n",
    "                       columns=[\"Titans\", \"Jaguars\"], \n",
    "                       index=[\"Pre-Game Prediction\", \"Half-Time Prediction\", \n",
    "                              \"Actual\"])"
   ]
  },
  {
   "cell_type": "code",
   "execution_count": 13,
   "metadata": {
    "ExecuteTime": {
     "end_time": "2019-05-27T20:33:06.551158Z",
     "start_time": "2019-05-27T20:33:06.541804Z"
    }
   },
   "outputs": [
    {
     "data": {
      "text/html": [
       "<div>\n",
       "<style scoped>\n",
       "    .dataframe tbody tr th:only-of-type {\n",
       "        vertical-align: middle;\n",
       "    }\n",
       "\n",
       "    .dataframe tbody tr th {\n",
       "        vertical-align: top;\n",
       "    }\n",
       "\n",
       "    .dataframe thead th {\n",
       "        text-align: right;\n",
       "    }\n",
       "</style>\n",
       "<table border=\"1\" class=\"dataframe\">\n",
       "  <thead>\n",
       "    <tr style=\"text-align: right;\">\n",
       "      <th></th>\n",
       "      <th>Titans</th>\n",
       "      <th>Jaguars</th>\n",
       "    </tr>\n",
       "  </thead>\n",
       "  <tbody>\n",
       "    <tr>\n",
       "      <th>Pre-Game Prediction</th>\n",
       "      <td>21</td>\n",
       "      <td>15</td>\n",
       "    </tr>\n",
       "    <tr>\n",
       "      <th>Half-Time Prediction</th>\n",
       "      <td>26</td>\n",
       "      <td>9</td>\n",
       "    </tr>\n",
       "    <tr>\n",
       "      <th>Actual</th>\n",
       "      <td>30</td>\n",
       "      <td>9</td>\n",
       "    </tr>\n",
       "  </tbody>\n",
       "</table>\n",
       "</div>"
      ],
      "text/plain": [
       "                      Titans  Jaguars\n",
       "Pre-Game Prediction       21       15\n",
       "Half-Time Prediction      26        9\n",
       "Actual                    30        9"
      ]
     },
     "execution_count": 13,
     "metadata": {},
     "output_type": "execute_result"
    }
   ],
   "source": [
    "results"
   ]
  },
  {
   "cell_type": "code",
   "execution_count": 14,
   "metadata": {
    "ExecuteTime": {
     "end_time": "2019-05-27T20:33:06.559579Z",
     "start_time": "2019-05-27T20:33:06.553710Z"
    }
   },
   "outputs": [
    {
     "data": {
      "image/png": "[encoded data removed]",
      "text/plain": [
       "<IPython.core.display.Image object>"
      ]
     },
     "execution_count": 14,
     "metadata": {},
     "output_type": "execute_result"
    }
   ],
   "source": [
    "Image(filename=\"images/titans_jags.png\")"
   ]
  }
 ],
 "metadata": {
  "kernelspec": {
   "display_name": "Python 3",
   "language": "python",
   "name": "python3"
  },
  "language_info": {
   "codemirror_mode": {
    "name": "ipython",
    "version": 3
   },
   "file_extension": ".py",
   "mimetype": "text/x-python",
   "name": "python",
   "nbconvert_exporter": "python",
   "pygments_lexer": "ipython3",
   "version": "3.6.6"
  }
 },
 "nbformat": 4,
 "nbformat_minor": 2
}
